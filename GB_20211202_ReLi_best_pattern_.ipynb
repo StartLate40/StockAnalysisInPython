{
  "nbformat": 4,
  "nbformat_minor": 0,
  "metadata": {
    "colab": {
      "name": "GB_20211202_ReLi_best_pattern_.ipynb",
      "provenance": [],
      "collapsed_sections": [
        "9QjOIkhfOhNu",
        "MZZ8XrVjLV8l"
      ],
      "toc_visible": true,
      "machine_shape": "hm",
      "include_colab_link": true
    },
    "kernelspec": {
      "display_name": "Python 3",
      "name": "python3"
    },
    "language_info": {
      "name": "python"
    }
  },
  "cells": [
    {
      "cell_type": "markdown",
      "metadata": {
        "id": "view-in-github",
        "colab_type": "text"
      },
      "source": [
        "<a href=\"https://colab.research.google.com/github/StartLate40/StockAnalysisInPython/blob/master/GB_20211202_ReLi_best_pattern_.ipynb\" target=\"_parent\"><img src=\"https://colab.research.google.com/assets/colab-badge.svg\" alt=\"Open In Colab\"/></a>"
      ]
    },
    {
      "cell_type": "markdown",
      "metadata": {
        "id": "RJrNa5kNjlyJ"
      },
      "source": [
        "# Overview - daily execution\n",
        "\n",
        "1. load similarity table from GBQ\n",
        "1. load price data from gdrive\n",
        "1. merge 2\n",
        "1. 시초가 부터 결과"
      ]
    },
    {
      "cell_type": "markdown",
      "metadata": {
        "id": "oFaE4-sudOmj"
      },
      "source": [
        "## I."
      ]
    },
    {
      "cell_type": "code",
      "metadata": {
        "colab": {
          "base_uri": "https://localhost:8080/"
        },
        "id": "UQK5QGEtHGWQ",
        "outputId": "216a5ea7-a7c9-4aad-ffa9-b6c6206702f1"
      },
      "source": [
        "from google.colab import drive\n",
        "drive.mount('/content/drive', force_remount=True)"
      ],
      "execution_count": null,
      "outputs": [
        {
          "output_type": "stream",
          "name": "stdout",
          "text": [
            "Mounted at /content/drive\n"
          ]
        }
      ]
    },
    {
      "cell_type": "code",
      "metadata": {
        "id": "DdrVQZHKPdhb"
      },
      "source": [
        "# For gbq connection\n",
        "from google.colab import auth\n",
        "auth.authenticate_user()"
      ],
      "execution_count": null,
      "outputs": []
    },
    {
      "cell_type": "code",
      "metadata": {
        "id": "xbkXKiJi8wlJ",
        "colab": {
          "base_uri": "https://localhost:8080/"
        },
        "outputId": "9c75c884-3a81-479d-86d5-d6acba1b7d34"
      },
      "source": [
        "!pip install -q git+https://github.com/loopinf/trading_calendars.git\n",
        "import pandas as pd\n",
        "from trading_calendars import get_calendar\n",
        "cal_krx = get_calendar('XKRX')\n",
        "\n",
        "from pandas.tseries.offsets import CustomBusinessDay\n",
        "# cbday = CustomBusinessDay(calendar=cal_krx)\n",
        "cbday = CustomBusinessDay(holidays=cal_krx.adhoc_holidays)"
      ],
      "execution_count": null,
      "outputs": [
        {
          "output_type": "stream",
          "name": "stdout",
          "text": [
            "  Building wheel for trading-calendars (setup.py) ... \u001b[?25l\u001b[?25hdone\n"
          ]
        }
      ]
    },
    {
      "cell_type": "code",
      "metadata": {
        "colab": {
          "base_uri": "https://localhost:8080/"
        },
        "id": "GwOiScL7-dQG",
        "outputId": "0cd986e6-a421-42a4-c1b7-0d0b0a2a0b65"
      },
      "source": [
        "cbday + pd.Timestamp.now()"
      ],
      "execution_count": null,
      "outputs": [
        {
          "output_type": "execute_result",
          "data": {
            "text/plain": [
              "Timestamp('2021-12-07 06:22:08.825917')"
            ]
          },
          "metadata": {},
          "execution_count": 6
        }
      ]
    },
    {
      "cell_type": "code",
      "metadata": {
        "id": "xYNWu_46_BX6"
      },
      "source": [
        "import itertools"
      ],
      "execution_count": null,
      "outputs": []
    },
    {
      "cell_type": "code",
      "metadata": {
        "id": "CYpqnYE5WzF_"
      },
      "source": [
        "import pandas as pd\n",
        "import pandas_gbq\n",
        "date_ref = '20211202'"
      ],
      "execution_count": null,
      "outputs": []
    },
    {
      "cell_type": "code",
      "metadata": {
        "id": "FDbt-k3eZ3PD"
      },
      "source": [
        "# table_id = f\"{project_id}.red_lion.pattern_{kernel_size}_{today}\"\n",
        "PROJECT_ID = 'dots-stock'"
      ],
      "execution_count": null,
      "outputs": []
    },
    {
      "cell_type": "markdown",
      "metadata": {
        "id": "CwiHCnbodSzf"
      },
      "source": [
        "## II."
      ]
    },
    {
      "cell_type": "code",
      "metadata": {
        "id": "KqeXPzZNW13N"
      },
      "source": [
        "def get_pattern(date_ref, kernel_size):\n",
        "  date_ref_ = pd.Timestamp(date_ref).strftime('%Y-%m-%d')\n",
        "  table_id = f\"{PROJECT_ID}.red_lion.pattern_{kernel_size}_{date_ref}\"\n",
        "  sql = f'''\n",
        "    SELECT\n",
        "      *\n",
        "    FROM\n",
        "      `{table_id}`\n",
        "    WHERE\n",
        "      source_date = \"{date_ref_}\"\n",
        "    ORDER BY\n",
        "      date\n",
        "    ''' \n",
        "\n",
        "  df = pandas_gbq.read_gbq(sql, project_id=PROJECT_ID, use_bqstorage_api=True)\n",
        "  return df"
      ],
      "execution_count": null,
      "outputs": []
    },
    {
      "cell_type": "code",
      "metadata": {
        "colab": {
          "base_uri": "https://localhost:8080/",
          "height": 241
        },
        "id": "ug0FzMONaWGq",
        "outputId": "5d9fccb5-a6c7-488e-e16f-0f353630f33e"
      },
      "source": [
        "df_pattern_6_20211201 = get_pattern('20211201', 6)\n",
        "df_pattern_6_20211202 = get_pattern('20211202', 6)\n",
        "df_pattern_6_20211201.head()"
      ],
      "execution_count": null,
      "outputs": [
        {
          "output_type": "stream",
          "name": "stderr",
          "text": [
            "Downloading: 100%|██████████| 231594/231594 [00:05<00:00, 42855.88rows/s] \n",
            "Downloading: 100%|██████████| 234348/234348 [00:05<00:00, 43739.78rows/s] \n"
          ]
        },
        {
          "output_type": "execute_result",
          "data": {
            "text/html": [
              "<div>\n",
              "<style scoped>\n",
              "    .dataframe tbody tr th:only-of-type {\n",
              "        vertical-align: middle;\n",
              "    }\n",
              "\n",
              "    .dataframe tbody tr th {\n",
              "        vertical-align: top;\n",
              "    }\n",
              "\n",
              "    .dataframe thead th {\n",
              "        text-align: right;\n",
              "    }\n",
              "</style>\n",
              "<table border=\"1\" class=\"dataframe\">\n",
              "  <thead>\n",
              "    <tr style=\"text-align: right;\">\n",
              "      <th></th>\n",
              "      <th>date</th>\n",
              "      <th>Code</th>\n",
              "      <th>similarity</th>\n",
              "      <th>source_code</th>\n",
              "      <th>source_date</th>\n",
              "    </tr>\n",
              "  </thead>\n",
              "  <tbody>\n",
              "    <tr>\n",
              "      <th>0</th>\n",
              "      <td>2011-01-10</td>\n",
              "      <td>000250</td>\n",
              "      <td>0.907434</td>\n",
              "      <td>340120</td>\n",
              "      <td>2021-12-01</td>\n",
              "    </tr>\n",
              "    <tr>\n",
              "      <th>1</th>\n",
              "      <td>2011-01-10</td>\n",
              "      <td>000390</td>\n",
              "      <td>0.963061</td>\n",
              "      <td>073190</td>\n",
              "      <td>2021-12-01</td>\n",
              "    </tr>\n",
              "    <tr>\n",
              "      <th>2</th>\n",
              "      <td>2011-01-10</td>\n",
              "      <td>001140</td>\n",
              "      <td>0.958982</td>\n",
              "      <td>307180</td>\n",
              "      <td>2021-12-01</td>\n",
              "    </tr>\n",
              "    <tr>\n",
              "      <th>3</th>\n",
              "      <td>2011-01-10</td>\n",
              "      <td>004770</td>\n",
              "      <td>0.923715</td>\n",
              "      <td>187220</td>\n",
              "      <td>2021-12-01</td>\n",
              "    </tr>\n",
              "    <tr>\n",
              "      <th>4</th>\n",
              "      <td>2011-01-10</td>\n",
              "      <td>004830</td>\n",
              "      <td>0.969923</td>\n",
              "      <td>063080</td>\n",
              "      <td>2021-12-01</td>\n",
              "    </tr>\n",
              "  </tbody>\n",
              "</table>\n",
              "</div>"
            ],
            "text/plain": [
              "        date    Code  similarity source_code source_date\n",
              "0 2011-01-10  000250    0.907434      340120  2021-12-01\n",
              "1 2011-01-10  000390    0.963061      073190  2021-12-01\n",
              "2 2011-01-10  001140    0.958982      307180  2021-12-01\n",
              "3 2011-01-10  004770    0.923715      187220  2021-12-01\n",
              "4 2011-01-10  004830    0.969923      063080  2021-12-01"
            ]
          },
          "metadata": {},
          "execution_count": 11
        }
      ]
    },
    {
      "cell_type": "code",
      "metadata": {
        "id": "5P9q2xjA-XYf"
      },
      "source": [
        "df_pattern_6_20211201_ = \\\n",
        "(df_pattern_6_20211201\n",
        "[lambda df: df.date != df.source_date] # not same date\n",
        "[lambda df: df.similarity > .95]\n",
        ")"
      ],
      "execution_count": null,
      "outputs": []
    },
    {
      "cell_type": "code",
      "metadata": {
        "colab": {
          "base_uri": "https://localhost:8080/"
        },
        "id": "unNzDTUX-wEh",
        "outputId": "10649f1b-e21d-47e4-8bbb-5ec8707cb1a1"
      },
      "source": [
        "print(\n",
        "    df_pattern_6_20211201_.shape,\n",
        "    df_pattern_6_20211201.shape\n",
        ")"
      ],
      "execution_count": null,
      "outputs": [
        {
          "output_type": "stream",
          "name": "stdout",
          "text": [
            "(105726, 5) (231594, 5)\n"
          ]
        }
      ]
    },
    {
      "cell_type": "markdown",
      "metadata": {
        "id": "AWW07_sfdWuu"
      },
      "source": [
        "## III."
      ]
    },
    {
      "cell_type": "code",
      "metadata": {
        "id": "fwkqwGJPRARv"
      },
      "source": [
        "# TODO: vim yank 5 times"
      ],
      "execution_count": null,
      "outputs": []
    },
    {
      "cell_type": "code",
      "metadata": {
        "id": "4KVXJP5fdZQ_"
      },
      "source": [
        "def get_price(date_ref):\n",
        "  date_ref_ = pd.Timestamp(date_ref).strftime('%Y-%m-%d')\n",
        "  table_id = f\"{PROJECT_ID}.red_lion.adj_price_{date_ref}\"\n",
        "  sql = f'''\n",
        "    SELECT\n",
        "      *\n",
        "    FROM\n",
        "      `{table_id}`\n",
        "    # WHERE\n",
        "    #   date = \"{date_ref_}\"\n",
        "    ORDER BY\n",
        "      date\n",
        "    ''' \n",
        "  df = pandas_gbq.read_gbq(sql, project_id=PROJECT_ID, use_bqstorage_api=True)\n",
        "  return df"
      ],
      "execution_count": null,
      "outputs": []
    },
    {
      "cell_type": "code",
      "metadata": {
        "id": "XVrkIdRPTpd8"
      },
      "source": [
        "######## First time to do\n",
        "# df_price = get_price(date_ref)"
      ],
      "execution_count": null,
      "outputs": []
    },
    {
      "cell_type": "code",
      "metadata": {
        "id": "0D6Y8Ts_TY7W"
      },
      "source": [
        "url = '/content/drive/Shareddrives/HBong-Stock/03_datasets/price_20211205.pkl'\n",
        "# df_price.to_pickle(url)\n",
        "df_price = pd.read_pickle(url)"
      ],
      "execution_count": 110,
      "outputs": []
    },
    {
      "cell_type": "code",
      "metadata": {
        "id": "9gOjUsG7m9zd"
      },
      "source": [
        "!pip install -q finance-datareader"
      ],
      "execution_count": null,
      "outputs": []
    },
    {
      "cell_type": "code",
      "metadata": {
        "id": "2lSBpHzinTKP"
      },
      "source": [
        "import FinanceDataReader as fdr"
      ],
      "execution_count": null,
      "outputs": []
    },
    {
      "cell_type": "code",
      "metadata": {
        "id": "0qu0LYesnWNC"
      },
      "source": [
        "missing_codes = df_[(df_.value != df_.Date)]['code'].unique()"
      ],
      "execution_count": null,
      "outputs": []
    },
    {
      "cell_type": "code",
      "metadata": {
        "id": "EE1nI9dOm6ui"
      },
      "source": [
        "def get_stock_prices(l_code, start_date=None, end_date=None):\n",
        "  from multiprocessing import Pool\n",
        "  # start_date = df_factor.index.levels[0].min().date().strftime('%Y%m%d')\n",
        "  if start_date is None: start_date = '20190101'\n",
        "  # end_date = df_factor.index.levels[0].max().date().strftime('%Y%m%d')\n",
        "  # l_code = df_factor.index.levels[1].unique()\n",
        "  # l_code = [] # TODO\n",
        "  global get_price\n",
        "  def get_price(code):\n",
        "    try:\n",
        "      result = (fdr.DataReader(code, start=start_date)\n",
        "        .assign(code=code) )\n",
        "    except Exception as e:\n",
        "      print(e)\n",
        "      print(f'{code} not in KRX ')\n",
        "      print(f'check in {code} DELISTING')\n",
        "      result = (fdr.DataReader(code, start=start_date, exchange='KRX-DELISTING')\n",
        "        .assign(code=code) )\n",
        "      \n",
        "    return result\n",
        "  with Pool(15) as pool:\n",
        "    result = pool.map(get_price, l_code)\n",
        "  df_price = pd.concat(result) \n",
        "\n",
        "  return df_price"
      ],
      "execution_count": 86,
      "outputs": []
    },
    {
      "cell_type": "code",
      "metadata": {
        "id": "gjFAjitFm6ui"
      },
      "source": [
        "df_price_deli = get_stock_prices(missing_codes).reset_index()"
      ],
      "execution_count": 87,
      "outputs": []
    },
    {
      "cell_type": "code",
      "metadata": {
        "id": "w1SuEXUVBsvE"
      },
      "source": [
        "df_price = pd.concat([df_price, df_price_deli])\n",
        "# df_price.columns"
      ],
      "execution_count": 100,
      "outputs": []
    },
    {
      "cell_type": "code",
      "metadata": {
        "colab": {
          "base_uri": "https://localhost:8080/"
        },
        "id": "xRp49Xt45Yfh",
        "outputId": "9f6d0a2c-7c61-4bcd-d1cf-62b1df6137f2"
      },
      "source": [
        "def check_min_max_date_codes():\n",
        "  print(\n",
        "      df_price.Date.min(), '\\n',\n",
        "      df_price.Date.max(), '\\n',\n",
        "      df_price.code.unique().__len__(), '\\n',\n",
        "  )\n",
        "check_min_max_date_codes()\n",
        "      "
      ],
      "execution_count": 101,
      "outputs": [
        {
          "output_type": "stream",
          "name": "stdout",
          "text": [
            "2011-01-03 00:00:00 \n",
            " 2021-12-06 00:00:00 \n",
            " 3401 \n",
            "\n"
          ]
        }
      ]
    },
    {
      "cell_type": "code",
      "metadata": {
        "id": "sTf76EC8wYi6"
      },
      "source": [
        "df_price.drop_duplicates(inplace=True)"
      ],
      "execution_count": 109,
      "outputs": []
    },
    {
      "cell_type": "code",
      "metadata": {
        "colab": {
          "base_uri": "https://localhost:8080/"
        },
        "id": "uBqJiWd7y0C5",
        "outputId": "10740573-0099-4665-b44e-dc57d4c17a69"
      },
      "source": [
        "df_price_deli.shape"
      ],
      "execution_count": 105,
      "outputs": [
        {
          "output_type": "execute_result",
          "data": {
            "text/plain": [
              "(343992, 8)"
            ]
          },
          "metadata": {},
          "execution_count": 105
        }
      ]
    },
    {
      "cell_type": "markdown",
      "metadata": {
        "id": "LsUuS5PXBuNJ"
      },
      "source": [
        "## IV. "
      ]
    },
    {
      "cell_type": "markdown",
      "metadata": {
        "id": "eIxOZ1PFhtnp"
      },
      "source": [
        "1. factor\n",
        "1. price\n",
        "1. alphalens compute_future_return"
      ]
    },
    {
      "cell_type": "code",
      "metadata": {
        "colab": {
          "base_uri": "https://localhost:8080/"
        },
        "id": "ukqY8VjQFrPP",
        "outputId": "a62b36a3-fbef-4955-9283-ff0be857ee06"
      },
      "source": [
        "!pip install -q alphalens-reloaded"
      ],
      "execution_count": null,
      "outputs": [
        {
          "output_type": "stream",
          "name": "stdout",
          "text": [
            "\u001b[K     |████████████████████████████████| 51 kB 302 kB/s \n",
            "\u001b[K     |████████████████████████████████| 6.3 MB 8.6 MB/s \n",
            "\u001b[?25h"
          ]
        }
      ]
    },
    {
      "cell_type": "code",
      "metadata": {
        "id": "pNKND489G5LV"
      },
      "source": [
        "####### factor \n",
        "def get_factor(df, order_time = '15h30m') -> pd.DataFrame:\n",
        "  \"\"\"make df_factor from dataframe\n",
        "  Parameters\n",
        "  ----------\n",
        "  df: pd.DataFrame\n",
        "  \n",
        "  Returns\n",
        "  -------\n",
        "  pd.DataFrame with factor = 1\n",
        "  \"\"\"\n",
        "  df.columns = df.columns.str.lower()\n",
        "  cols_ = ['date','code','source_code']\n",
        "  return (df[cols_]\n",
        "  .assign(factor=1,\n",
        "      datetime_to_buy=\n",
        "          lambda x: pd.to_datetime(x.date) + pd.Timedelta(order_time) \n",
        "          )\n",
        "  .set_index(['datetime_to_buy','code'])\n",
        "  .loc[:,['factor','source_code']]\n",
        "  )"
      ],
      "execution_count": null,
      "outputs": []
    },
    {
      "cell_type": "code",
      "metadata": {
        "id": "vFLAcHwSFxvN"
      },
      "source": [
        "df_factor_1 = get_factor(df_pattern_6_20211201_) \n",
        "df_factor_2 = get_factor(df_pattern_6_20211201_, order_time='9h') \n",
        "df_factor_3 = get_factor(df_pattern_6_20211201_, order_time='0h') "
      ],
      "execution_count": null,
      "outputs": []
    },
    {
      "cell_type": "code",
      "metadata": {
        "colab": {
          "base_uri": "https://localhost:8080/",
          "height": 143
        },
        "id": "A8lb9uFiHSoS",
        "outputId": "ad0cf190-8af7-417e-c364-d0ac0582f783"
      },
      "source": [
        "df_factor_3.head(2)"
      ],
      "execution_count": null,
      "outputs": [
        {
          "output_type": "execute_result",
          "data": {
            "text/html": [
              "<div>\n",
              "<style scoped>\n",
              "    .dataframe tbody tr th:only-of-type {\n",
              "        vertical-align: middle;\n",
              "    }\n",
              "\n",
              "    .dataframe tbody tr th {\n",
              "        vertical-align: top;\n",
              "    }\n",
              "\n",
              "    .dataframe thead th {\n",
              "        text-align: right;\n",
              "    }\n",
              "</style>\n",
              "<table border=\"1\" class=\"dataframe\">\n",
              "  <thead>\n",
              "    <tr style=\"text-align: right;\">\n",
              "      <th></th>\n",
              "      <th></th>\n",
              "      <th>factor</th>\n",
              "      <th>source_code</th>\n",
              "    </tr>\n",
              "    <tr>\n",
              "      <th>datetime_to_buy</th>\n",
              "      <th>code</th>\n",
              "      <th></th>\n",
              "      <th></th>\n",
              "    </tr>\n",
              "  </thead>\n",
              "  <tbody>\n",
              "    <tr>\n",
              "      <th rowspan=\"2\" valign=\"top\">2011-01-10</th>\n",
              "      <th>000390</th>\n",
              "      <td>1</td>\n",
              "      <td>073190</td>\n",
              "    </tr>\n",
              "    <tr>\n",
              "      <th>001140</th>\n",
              "      <td>1</td>\n",
              "      <td>307180</td>\n",
              "    </tr>\n",
              "  </tbody>\n",
              "</table>\n",
              "</div>"
            ],
            "text/plain": [
              "                        factor source_code\n",
              "datetime_to_buy code                      \n",
              "2011-01-10      000390       1      073190\n",
              "                001140       1      307180"
            ]
          },
          "metadata": {},
          "execution_count": 24
        }
      ]
    },
    {
      "cell_type": "code",
      "metadata": {
        "id": "QbVb9ZceBtLG"
      },
      "source": [
        "###### price\n",
        "df_price_ = df_price.set_index('Date')\n",
        "df_open = df_price_.loc[:, ['code', 'Open']]\n",
        "df_open = df_open.pivot_table(values='Open', columns='code', index=df_open.index)\n",
        "df_open.index += pd.Timedelta('9h')\n",
        "df_close = df_price_.loc[:,['code', 'Close']]\n",
        "df_close = df_close.pivot_table(values='Close', columns='code', index=df_close.index)\n",
        "df_close.index += pd.Timedelta('15h30m')\n",
        "price = pd.concat([df_open, df_close], axis=0).sort_index()"
      ],
      "execution_count": 111,
      "outputs": []
    },
    {
      "cell_type": "code",
      "metadata": {
        "id": "cpjH3V5MhZ2U"
      },
      "source": [
        "# price_al =\\\n",
        "# (df_price.reset_index()\n",
        "# .rename(columns=lambda x: x.lower())\n",
        "# .pivot_table(values='close',\n",
        "#              index='date',\n",
        "#              columns='code'))"
      ],
      "execution_count": null,
      "outputs": []
    },
    {
      "cell_type": "code",
      "metadata": {
        "colab": {
          "base_uri": "https://localhost:8080/",
          "height": 262
        },
        "id": "0MjOT9YD6IzL",
        "outputId": "753062e9-9134-4ed1-a562-d1d967c2bf5d"
      },
      "source": [
        "price.head(2)"
      ],
      "execution_count": 112,
      "outputs": [
        {
          "output_type": "execute_result",
          "data": {
            "text/html": [
              "<div>\n",
              "<style scoped>\n",
              "    .dataframe tbody tr th:only-of-type {\n",
              "        vertical-align: middle;\n",
              "    }\n",
              "\n",
              "    .dataframe tbody tr th {\n",
              "        vertical-align: top;\n",
              "    }\n",
              "\n",
              "    .dataframe thead th {\n",
              "        text-align: right;\n",
              "    }\n",
              "</style>\n",
              "<table border=\"1\" class=\"dataframe\">\n",
              "  <thead>\n",
              "    <tr style=\"text-align: right;\">\n",
              "      <th>code</th>\n",
              "      <th>000020</th>\n",
              "      <th>000040</th>\n",
              "      <th>000050</th>\n",
              "      <th>000060</th>\n",
              "      <th>000070</th>\n",
              "      <th>000075</th>\n",
              "      <th>000080</th>\n",
              "      <th>000087</th>\n",
              "      <th>000100</th>\n",
              "      <th>000105</th>\n",
              "      <th>000120</th>\n",
              "      <th>000140</th>\n",
              "      <th>000145</th>\n",
              "      <th>000150</th>\n",
              "      <th>000155</th>\n",
              "      <th>000157</th>\n",
              "      <th>000180</th>\n",
              "      <th>000210</th>\n",
              "      <th>000215</th>\n",
              "      <th>000220</th>\n",
              "      <th>000225</th>\n",
              "      <th>000227</th>\n",
              "      <th>000230</th>\n",
              "      <th>000240</th>\n",
              "      <th>000250</th>\n",
              "      <th>000270</th>\n",
              "      <th>000300</th>\n",
              "      <th>000320</th>\n",
              "      <th>000325</th>\n",
              "      <th>000370</th>\n",
              "      <th>000390</th>\n",
              "      <th>000400</th>\n",
              "      <th>000430</th>\n",
              "      <th>000440</th>\n",
              "      <th>000480</th>\n",
              "      <th>000490</th>\n",
              "      <th>000500</th>\n",
              "      <th>000520</th>\n",
              "      <th>000540</th>\n",
              "      <th>000545</th>\n",
              "      <th>...</th>\n",
              "      <th>610025</th>\n",
              "      <th>610026</th>\n",
              "      <th>610027</th>\n",
              "      <th>610028</th>\n",
              "      <th>610029</th>\n",
              "      <th>610030</th>\n",
              "      <th>610031</th>\n",
              "      <th>610032</th>\n",
              "      <th>610033</th>\n",
              "      <th>700001</th>\n",
              "      <th>700002</th>\n",
              "      <th>700003</th>\n",
              "      <th>700004</th>\n",
              "      <th>700007</th>\n",
              "      <th>700008</th>\n",
              "      <th>700009</th>\n",
              "      <th>700010</th>\n",
              "      <th>900070</th>\n",
              "      <th>900100</th>\n",
              "      <th>900110</th>\n",
              "      <th>900120</th>\n",
              "      <th>900140</th>\n",
              "      <th>900250</th>\n",
              "      <th>900260</th>\n",
              "      <th>900270</th>\n",
              "      <th>900280</th>\n",
              "      <th>900290</th>\n",
              "      <th>900300</th>\n",
              "      <th>900310</th>\n",
              "      <th>900340</th>\n",
              "      <th>950110</th>\n",
              "      <th>950130</th>\n",
              "      <th>950140</th>\n",
              "      <th>950160</th>\n",
              "      <th>950170</th>\n",
              "      <th>950180</th>\n",
              "      <th>950190</th>\n",
              "      <th>950200</th>\n",
              "      <th>950210</th>\n",
              "      <th>950220</th>\n",
              "    </tr>\n",
              "    <tr>\n",
              "      <th>Date</th>\n",
              "      <th></th>\n",
              "      <th></th>\n",
              "      <th></th>\n",
              "      <th></th>\n",
              "      <th></th>\n",
              "      <th></th>\n",
              "      <th></th>\n",
              "      <th></th>\n",
              "      <th></th>\n",
              "      <th></th>\n",
              "      <th></th>\n",
              "      <th></th>\n",
              "      <th></th>\n",
              "      <th></th>\n",
              "      <th></th>\n",
              "      <th></th>\n",
              "      <th></th>\n",
              "      <th></th>\n",
              "      <th></th>\n",
              "      <th></th>\n",
              "      <th></th>\n",
              "      <th></th>\n",
              "      <th></th>\n",
              "      <th></th>\n",
              "      <th></th>\n",
              "      <th></th>\n",
              "      <th></th>\n",
              "      <th></th>\n",
              "      <th></th>\n",
              "      <th></th>\n",
              "      <th></th>\n",
              "      <th></th>\n",
              "      <th></th>\n",
              "      <th></th>\n",
              "      <th></th>\n",
              "      <th></th>\n",
              "      <th></th>\n",
              "      <th></th>\n",
              "      <th></th>\n",
              "      <th></th>\n",
              "      <th></th>\n",
              "      <th></th>\n",
              "      <th></th>\n",
              "      <th></th>\n",
              "      <th></th>\n",
              "      <th></th>\n",
              "      <th></th>\n",
              "      <th></th>\n",
              "      <th></th>\n",
              "      <th></th>\n",
              "      <th></th>\n",
              "      <th></th>\n",
              "      <th></th>\n",
              "      <th></th>\n",
              "      <th></th>\n",
              "      <th></th>\n",
              "      <th></th>\n",
              "      <th></th>\n",
              "      <th></th>\n",
              "      <th></th>\n",
              "      <th></th>\n",
              "      <th></th>\n",
              "      <th></th>\n",
              "      <th></th>\n",
              "      <th></th>\n",
              "      <th></th>\n",
              "      <th></th>\n",
              "      <th></th>\n",
              "      <th></th>\n",
              "      <th></th>\n",
              "      <th></th>\n",
              "      <th></th>\n",
              "      <th></th>\n",
              "      <th></th>\n",
              "      <th></th>\n",
              "      <th></th>\n",
              "      <th></th>\n",
              "      <th></th>\n",
              "      <th></th>\n",
              "      <th></th>\n",
              "      <th></th>\n",
              "    </tr>\n",
              "  </thead>\n",
              "  <tbody>\n",
              "    <tr>\n",
              "      <th>2011-01-03 09:00:00</th>\n",
              "      <td>5320.0</td>\n",
              "      <td>4151.0</td>\n",
              "      <td>9160.0</td>\n",
              "      <td>10531.0</td>\n",
              "      <td>72993.0</td>\n",
              "      <td>41850.0</td>\n",
              "      <td>35400.0</td>\n",
              "      <td>NaN</td>\n",
              "      <td>27919.0</td>\n",
              "      <td>20902.0</td>\n",
              "      <td>95500.0</td>\n",
              "      <td>20250.0</td>\n",
              "      <td>14500.0</td>\n",
              "      <td>125404.0</td>\n",
              "      <td>40339.0</td>\n",
              "      <td>36941.0</td>\n",
              "      <td>1233.0</td>\n",
              "      <td>106626.0</td>\n",
              "      <td>27359.0</td>\n",
              "      <td>3711.0</td>\n",
              "      <td>1555.0</td>\n",
              "      <td>3537.0</td>\n",
              "      <td>9445.0</td>\n",
              "      <td>15895.0</td>\n",
              "      <td>2150.0</td>\n",
              "      <td>51100.0</td>\n",
              "      <td>1717.0</td>\n",
              "      <td>5870.0</td>\n",
              "      <td>7220.0</td>\n",
              "      <td>9500.0</td>\n",
              "      <td>4270.0</td>\n",
              "      <td>6246.0</td>\n",
              "      <td>4255.0</td>\n",
              "      <td>3574.0</td>\n",
              "      <td>65800.0</td>\n",
              "      <td>5100.0</td>\n",
              "      <td>25050.0</td>\n",
              "      <td>2587.0</td>\n",
              "      <td>5950.0</td>\n",
              "      <td>2775.0</td>\n",
              "      <td>...</td>\n",
              "      <td>NaN</td>\n",
              "      <td>NaN</td>\n",
              "      <td>NaN</td>\n",
              "      <td>NaN</td>\n",
              "      <td>NaN</td>\n",
              "      <td>NaN</td>\n",
              "      <td>NaN</td>\n",
              "      <td>NaN</td>\n",
              "      <td>NaN</td>\n",
              "      <td>NaN</td>\n",
              "      <td>NaN</td>\n",
              "      <td>NaN</td>\n",
              "      <td>NaN</td>\n",
              "      <td>NaN</td>\n",
              "      <td>NaN</td>\n",
              "      <td>NaN</td>\n",
              "      <td>NaN</td>\n",
              "      <td>1339.0</td>\n",
              "      <td>6830.0</td>\n",
              "      <td>2996.0</td>\n",
              "      <td>3818.0</td>\n",
              "      <td>3778.0</td>\n",
              "      <td>NaN</td>\n",
              "      <td>NaN</td>\n",
              "      <td>NaN</td>\n",
              "      <td>NaN</td>\n",
              "      <td>NaN</td>\n",
              "      <td>NaN</td>\n",
              "      <td>NaN</td>\n",
              "      <td>NaN</td>\n",
              "      <td>NaN</td>\n",
              "      <td>NaN</td>\n",
              "      <td>NaN</td>\n",
              "      <td>NaN</td>\n",
              "      <td>NaN</td>\n",
              "      <td>NaN</td>\n",
              "      <td>NaN</td>\n",
              "      <td>NaN</td>\n",
              "      <td>NaN</td>\n",
              "      <td>NaN</td>\n",
              "    </tr>\n",
              "    <tr>\n",
              "      <th>2011-01-03 15:30:00</th>\n",
              "      <td>5280.0</td>\n",
              "      <td>4172.0</td>\n",
              "      <td>9199.0</td>\n",
              "      <td>10664.0</td>\n",
              "      <td>73409.0</td>\n",
              "      <td>41625.0</td>\n",
              "      <td>35600.0</td>\n",
              "      <td>NaN</td>\n",
              "      <td>27678.0</td>\n",
              "      <td>20903.0</td>\n",
              "      <td>93600.0</td>\n",
              "      <td>20200.0</td>\n",
              "      <td>14500.0</td>\n",
              "      <td>126611.0</td>\n",
              "      <td>40669.0</td>\n",
              "      <td>36942.0</td>\n",
              "      <td>1239.0</td>\n",
              "      <td>111596.0</td>\n",
              "      <td>28477.0</td>\n",
              "      <td>3789.0</td>\n",
              "      <td>1580.0</td>\n",
              "      <td>3512.0</td>\n",
              "      <td>9142.0</td>\n",
              "      <td>16440.0</td>\n",
              "      <td>2135.0</td>\n",
              "      <td>52500.0</td>\n",
              "      <td>1753.0</td>\n",
              "      <td>5780.0</td>\n",
              "      <td>7100.0</td>\n",
              "      <td>9455.0</td>\n",
              "      <td>4285.0</td>\n",
              "      <td>6154.0</td>\n",
              "      <td>4205.0</td>\n",
              "      <td>3624.0</td>\n",
              "      <td>64000.0</td>\n",
              "      <td>5020.0</td>\n",
              "      <td>24800.0</td>\n",
              "      <td>2573.0</td>\n",
              "      <td>5990.0</td>\n",
              "      <td>2770.0</td>\n",
              "      <td>...</td>\n",
              "      <td>NaN</td>\n",
              "      <td>NaN</td>\n",
              "      <td>NaN</td>\n",
              "      <td>NaN</td>\n",
              "      <td>NaN</td>\n",
              "      <td>NaN</td>\n",
              "      <td>NaN</td>\n",
              "      <td>NaN</td>\n",
              "      <td>NaN</td>\n",
              "      <td>NaN</td>\n",
              "      <td>NaN</td>\n",
              "      <td>NaN</td>\n",
              "      <td>NaN</td>\n",
              "      <td>NaN</td>\n",
              "      <td>NaN</td>\n",
              "      <td>NaN</td>\n",
              "      <td>NaN</td>\n",
              "      <td>1327.0</td>\n",
              "      <td>6950.0</td>\n",
              "      <td>3037.0</td>\n",
              "      <td>3956.0</td>\n",
              "      <td>4129.0</td>\n",
              "      <td>NaN</td>\n",
              "      <td>NaN</td>\n",
              "      <td>NaN</td>\n",
              "      <td>NaN</td>\n",
              "      <td>NaN</td>\n",
              "      <td>NaN</td>\n",
              "      <td>NaN</td>\n",
              "      <td>NaN</td>\n",
              "      <td>NaN</td>\n",
              "      <td>NaN</td>\n",
              "      <td>NaN</td>\n",
              "      <td>NaN</td>\n",
              "      <td>NaN</td>\n",
              "      <td>NaN</td>\n",
              "      <td>NaN</td>\n",
              "      <td>NaN</td>\n",
              "      <td>NaN</td>\n",
              "      <td>NaN</td>\n",
              "    </tr>\n",
              "  </tbody>\n",
              "</table>\n",
              "<p>2 rows × 3268 columns</p>\n",
              "</div>"
            ],
            "text/plain": [
              "code                 000020  000040  000050  ...  950200  950210  950220\n",
              "Date                                         ...                        \n",
              "2011-01-03 09:00:00  5320.0  4151.0  9160.0  ...     NaN     NaN     NaN\n",
              "2011-01-03 15:30:00  5280.0  4172.0  9199.0  ...     NaN     NaN     NaN\n",
              "\n",
              "[2 rows x 3268 columns]"
            ]
          },
          "metadata": {},
          "execution_count": 112
        }
      ]
    },
    {
      "cell_type": "markdown",
      "metadata": {
        "id": "S5WApdb36WC9"
      },
      "source": [
        "## wo alphalens"
      ]
    },
    {
      "cell_type": "markdown",
      "metadata": {
        "id": "qzO0WRx2mMoY"
      },
      "source": [
        "## 🐼pandas\n",
        "\n"
      ]
    },
    {
      "cell_type": "code",
      "metadata": {
        "id": "145QqQBu6NDz"
      },
      "source": [
        "import warnings\n",
        "warnings.filterwarnings('ignore')"
      ],
      "execution_count": null,
      "outputs": []
    },
    {
      "cell_type": "code",
      "metadata": {
        "id": "b7oPeGBe6duE"
      },
      "source": [
        "# df_pattern_6_20211201_.head(3) # 3mins to run ... # 1m52s\n",
        "df = df_pattern_6_20211201_.copy()\n",
        "\n",
        "##\n",
        "N_points = 20\n",
        "for days in range(0, N_points): # took so long\n",
        "  df[f'd{days}_1'] = df.date + pd.Timedelta('9h') + days * cbday     # 해당일 시가\n",
        "  df[f'd{days}_2'] = df.date + pd.Timedelta('15h30m') + days * cbday # 해당일 종가\n",
        "cols_1 = ['date','code','source_code','source_date',]\n",
        "cols_d_op = list(\n",
        "    itertools.chain.from_iterable(\n",
        "        [(f'd{i}_1',f'd{i}_2') for i in range(0,N_points)])\n",
        ")\n",
        "cols_all = cols_1 + cols_d_op\n"
      ],
      "execution_count": 113,
      "outputs": []
    },
    {
      "cell_type": "code",
      "metadata": {
        "colab": {
          "base_uri": "https://localhost:8080/",
          "height": 206
        },
        "id": "FPHQx-LMcvbL",
        "outputId": "0f4788fb-6afa-4d7d-8d7b-fa6552a8cc57"
      },
      "source": [
        "price1 = \\\n",
        "(price.stack()\n",
        ".reset_index()\n",
        ".rename(columns={0:'adj_p'})\n",
        ")\n",
        "price1.head()"
      ],
      "execution_count": 114,
      "outputs": [
        {
          "output_type": "execute_result",
          "data": {
            "text/html": [
              "<div>\n",
              "<style scoped>\n",
              "    .dataframe tbody tr th:only-of-type {\n",
              "        vertical-align: middle;\n",
              "    }\n",
              "\n",
              "    .dataframe tbody tr th {\n",
              "        vertical-align: top;\n",
              "    }\n",
              "\n",
              "    .dataframe thead th {\n",
              "        text-align: right;\n",
              "    }\n",
              "</style>\n",
              "<table border=\"1\" class=\"dataframe\">\n",
              "  <thead>\n",
              "    <tr style=\"text-align: right;\">\n",
              "      <th></th>\n",
              "      <th>Date</th>\n",
              "      <th>code</th>\n",
              "      <th>adj_p</th>\n",
              "    </tr>\n",
              "  </thead>\n",
              "  <tbody>\n",
              "    <tr>\n",
              "      <th>0</th>\n",
              "      <td>2011-01-03 09:00:00</td>\n",
              "      <td>000020</td>\n",
              "      <td>5320.0</td>\n",
              "    </tr>\n",
              "    <tr>\n",
              "      <th>1</th>\n",
              "      <td>2011-01-03 09:00:00</td>\n",
              "      <td>000040</td>\n",
              "      <td>4151.0</td>\n",
              "    </tr>\n",
              "    <tr>\n",
              "      <th>2</th>\n",
              "      <td>2011-01-03 09:00:00</td>\n",
              "      <td>000050</td>\n",
              "      <td>9160.0</td>\n",
              "    </tr>\n",
              "    <tr>\n",
              "      <th>3</th>\n",
              "      <td>2011-01-03 09:00:00</td>\n",
              "      <td>000060</td>\n",
              "      <td>10531.0</td>\n",
              "    </tr>\n",
              "    <tr>\n",
              "      <th>4</th>\n",
              "      <td>2011-01-03 09:00:00</td>\n",
              "      <td>000070</td>\n",
              "      <td>72993.0</td>\n",
              "    </tr>\n",
              "  </tbody>\n",
              "</table>\n",
              "</div>"
            ],
            "text/plain": [
              "                 Date    code    adj_p\n",
              "0 2011-01-03 09:00:00  000020   5320.0\n",
              "1 2011-01-03 09:00:00  000040   4151.0\n",
              "2 2011-01-03 09:00:00  000050   9160.0\n",
              "3 2011-01-03 09:00:00  000060  10531.0\n",
              "4 2011-01-03 09:00:00  000070  72993.0"
            ]
          },
          "metadata": {},
          "execution_count": 114
        }
      ]
    },
    {
      "cell_type": "code",
      "metadata": {
        "id": "sOqScEgaKwLX"
      },
      "source": [
        "df_ = (df\n",
        " .drop_duplicates(['code','date'])    # must to do  한 종목이 여러 소스종목과 동일한 경우가 있음 \n",
        " .melt(id_vars=cols_1, value_vars=cols_d_op)\n",
        " .sort_values(['code','variable'])\n",
        " .merge(price1, \n",
        "        left_on=['code', 'value'],\n",
        "        right_on=['code','Date'], \n",
        "        how='left')\n",
        " .sort_values(['code','date','value'])\n",
        " )"
      ],
      "execution_count": 115,
      "outputs": []
    },
    {
      "cell_type": "code",
      "metadata": {
        "id": "h10wNc7hOety"
      },
      "source": [
        "# itook 51s\n",
        "# TODO polars apply... try\n",
        "sr_re = \\\n",
        "(df_.groupby(['date','code'], as_index=True)\n",
        ".apply(lambda df: df.adj_p/ df.adj_p.iloc[1])\n",
        ")"
      ],
      "execution_count": 117,
      "outputs": []
    },
    {
      "cell_type": "code",
      "metadata": {
        "colab": {
          "base_uri": "https://localhost:8080/"
        },
        "id": "h0SebxgkR2fy",
        "outputId": "1fa7051a-7149-4b93-cdce-7dbd3d6ba28d"
      },
      "source": [
        "sr_re.values.reshape(-1, 2 * N_points).shape # (105726, 40) # (58947, 40)"
      ],
      "execution_count": 118,
      "outputs": [
        {
          "output_type": "execute_result",
          "data": {
            "text/plain": [
              "(58947, 40)"
            ]
          },
          "metadata": {},
          "execution_count": 118
        }
      ]
    },
    {
      "cell_type": "markdown",
      "metadata": {
        "id": "qBwtJl_Joyhp"
      },
      "source": [
        "df_returns.....\n",
        " - 종목명, 날짜 이후 움직임\n",
        "  - d0_1 : 당일 시가\n",
        "  - d0_2 : 당일 종가\n",
        "  - d1_1 : 1일 뒤 시가\n",
        "  - d1_2 : 1일 뒤 종가가"
      ]
    },
    {
      "cell_type": "code",
      "metadata": {
        "id": "hfnVHS9YGZqw"
      },
      "source": [
        "df_returns = pd.DataFrame(\n",
        "    data=sr_re.values.reshape(-1, 2* N_points),\n",
        "    index = sr_re.index[::40].droplevel(2),\n",
        "    columns = cols_d_op\n",
        ").reset_index()"
      ],
      "execution_count": 119,
      "outputs": []
    },
    {
      "cell_type": "code",
      "metadata": {
        "id": "rtJV8sGDXO0c"
      },
      "source": [
        "# df_returns"
      ],
      "execution_count": 120,
      "outputs": []
    },
    {
      "cell_type": "markdown",
      "metadata": {
        "id": "BO0iY7DFpnwx"
      },
      "source": [
        "기존 테이블 하고 조인"
      ]
    },
    {
      "cell_type": "code",
      "metadata": {
        "colab": {
          "base_uri": "https://localhost:8080/"
        },
        "id": "kUjg7BlwpTGd",
        "outputId": "29377c3d-5e3e-4f03-8b7c-429f0e02f95e"
      },
      "source": [
        "df_ret = (df\n",
        " .merge(df_returns,\n",
        "       left_on=['date','code'],\n",
        "       right_on=['date','code'],\n",
        "       how='left',\n",
        "       suffixes=['','_p'])\n",
        ")\n",
        "df_ret.shape"
      ],
      "execution_count": 121,
      "outputs": [
        {
          "output_type": "execute_result",
          "data": {
            "text/plain": [
              "(105726, 85)"
            ]
          },
          "metadata": {},
          "execution_count": 121
        }
      ]
    },
    {
      "cell_type": "code",
      "metadata": {
        "colab": {
          "base_uri": "https://localhost:8080/"
        },
        "id": "thWOrSU57f9C",
        "outputId": "60ed7128-af55-40ab-9166-0711a32a242f"
      },
      "source": [
        "print(\n",
        "    \n",
        "df_ret.duplicated(['date','code']).sum(),\n",
        "df.duplicated(['date','code']).sum()\n",
        ")"
      ],
      "execution_count": 122,
      "outputs": [
        {
          "output_type": "stream",
          "name": "stdout",
          "text": [
            "46779 46779\n"
          ]
        }
      ]
    },
    {
      "cell_type": "code",
      "metadata": {
        "colab": {
          "base_uri": "https://localhost:8080/"
        },
        "id": "zsmd692B7GlW",
        "outputId": "e6e7a7b3-1434-40a7-8717-6c3e50b97d8e"
      },
      "source": [
        "df.shape"
      ],
      "execution_count": 123,
      "outputs": [
        {
          "output_type": "execute_result",
          "data": {
            "text/plain": [
              "(105726, 45)"
            ]
          },
          "metadata": {},
          "execution_count": 123
        }
      ]
    },
    {
      "cell_type": "code",
      "metadata": {
        "colab": {
          "base_uri": "https://localhost:8080/"
        },
        "id": "3J3UrkaE7JcP",
        "outputId": "ac792148-a422-4982-8bb5-9438227a40f7"
      },
      "source": [
        "df_returns.shape"
      ],
      "execution_count": 124,
      "outputs": [
        {
          "output_type": "execute_result",
          "data": {
            "text/plain": [
              "(58947, 42)"
            ]
          },
          "metadata": {},
          "execution_count": 124
        }
      ]
    },
    {
      "cell_type": "code",
      "metadata": {
        "id": "A72M1Knk697Z"
      },
      "source": [
        "df_ret = (df\n",
        " .merge(df_returns,\n",
        "       left_on=['date','code'],\n",
        "       right_on=['date','code'],\n",
        "       how='left',\n",
        "       suffixes=['','_p'])\n",
        ")"
      ],
      "execution_count": 125,
      "outputs": []
    },
    {
      "cell_type": "code",
      "metadata": {
        "id": "7Jjc9caApS9e"
      },
      "source": [
        "gb1 = df_ret.groupby('source_code')"
      ],
      "execution_count": 126,
      "outputs": []
    },
    {
      "cell_type": "code",
      "metadata": {
        "id": "EvpyTG-iOm60"
      },
      "source": [
        "df_ud = pd.DataFrame()\n",
        "\n",
        "for i in range(1, 10):\n",
        "  df_ud[f'up_c_{i}'] = gb1[f'd{i}_2_p'].apply(lambda x: (x>1.01).sum())\n",
        "  df_ud[f'all_c_{i}'] = gb1[f'd{i}_2_p'].apply(lambda x: x.count())\n",
        "  df_ud[f'ratio_c_{i}'] = df_ud[f'up_c_{i}'] / df_ud[f'all_c_{i}']"
      ],
      "execution_count": 131,
      "outputs": []
    },
    {
      "cell_type": "code",
      "metadata": {
        "id": "P0tuV1qZt3hX"
      },
      "source": [
        "df_pattern_result = (df_ud\n",
        " [lambda df: df.all_c_2 > 10]\n",
        " .sort_values(['ratio_c_1','ratio_c_2','ratio_c_3','ratio_c_4'], ascending=[False, False, False, False])\n",
        " .reset_index()\n",
        ")"
      ],
      "execution_count": 147,
      "outputs": []
    },
    {
      "cell_type": "code",
      "metadata": {
        "colab": {
          "base_uri": "https://localhost:8080/"
        },
        "id": "F4ARYguL82nc",
        "outputId": "2c0184b4-9025-4175-98ea-46016c667d6c"
      },
      "source": [
        "table_id = f\"red_lion.pattern_result_{kernel_size}_{date_ref}\"\n",
        "df_pattern_result.to_gbq(\n",
        "    table_id, \n",
        "    project_id = 'dots-stock',\n",
        "    if_exists='replace'\n",
        ")"
      ],
      "execution_count": 148,
      "outputs": [
        {
          "output_type": "stream",
          "name": "stderr",
          "text": [
            "1it [00:06,  6.68s/it]\n"
          ]
        }
      ]
    },
    {
      "cell_type": "code",
      "metadata": {
        "id": "XUEx_OvFAWGv"
      },
      "source": [
        "kernel_size=6"
      ],
      "execution_count": 144,
      "outputs": []
    },
    {
      "cell_type": "code",
      "metadata": {
        "id": "lwmOqlbNtupB"
      },
      "source": [
        "\n",
        "sr_d1_2_p = gb1['d1_2_p'].apply(lambda x: x.count())\n",
        "\n",
        "sr_d1_2_p_up.name = 'up_c'\n",
        "sr_d1_2_p.name = 'all_c'"
      ],
      "execution_count": null,
      "outputs": []
    },
    {
      "cell_type": "markdown",
      "metadata": {
        "id": "d4ZK4uEik7ne"
      },
      "source": [
        ""
      ]
    },
    {
      "cell_type": "code",
      "metadata": {
        "colab": {
          "base_uri": "https://localhost:8080/",
          "height": 455
        },
        "id": "UBqhA8OOTw9V",
        "outputId": "6e279e11-06c6-4eca-9382-53490fe35eee"
      },
      "source": [
        "df_tmp = \\\n",
        "(pd.concat([sr_d1_2_p, sr_d1_2_p_up], axis=1)\n",
        "  .assign(up_ratio = lambda df: df.up_c / df.all_c)\n",
        "  [lambda df: df.all_c > 20]\n",
        ")\n",
        "df_tmp.sort_values(['up_ratio','all_c',], ascending=[False,False])"
      ],
      "execution_count": 128,
      "outputs": [
        {
          "output_type": "execute_result",
          "data": {
            "text/html": [
              "<div>\n",
              "<style scoped>\n",
              "    .dataframe tbody tr th:only-of-type {\n",
              "        vertical-align: middle;\n",
              "    }\n",
              "\n",
              "    .dataframe tbody tr th {\n",
              "        vertical-align: top;\n",
              "    }\n",
              "\n",
              "    .dataframe thead th {\n",
              "        text-align: right;\n",
              "    }\n",
              "</style>\n",
              "<table border=\"1\" class=\"dataframe\">\n",
              "  <thead>\n",
              "    <tr style=\"text-align: right;\">\n",
              "      <th></th>\n",
              "      <th>all_c</th>\n",
              "      <th>up_c</th>\n",
              "      <th>up_ratio</th>\n",
              "    </tr>\n",
              "    <tr>\n",
              "      <th>source_code</th>\n",
              "      <th></th>\n",
              "      <th></th>\n",
              "      <th></th>\n",
              "    </tr>\n",
              "  </thead>\n",
              "  <tbody>\n",
              "    <tr>\n",
              "      <th>005610</th>\n",
              "      <td>73</td>\n",
              "      <td>48</td>\n",
              "      <td>0.657534</td>\n",
              "    </tr>\n",
              "    <tr>\n",
              "      <th>192390</th>\n",
              "      <td>35</td>\n",
              "      <td>22</td>\n",
              "      <td>0.628571</td>\n",
              "    </tr>\n",
              "    <tr>\n",
              "      <th>014970</th>\n",
              "      <td>87</td>\n",
              "      <td>50</td>\n",
              "      <td>0.574713</td>\n",
              "    </tr>\n",
              "    <tr>\n",
              "      <th>007700</th>\n",
              "      <td>42</td>\n",
              "      <td>22</td>\n",
              "      <td>0.523810</td>\n",
              "    </tr>\n",
              "    <tr>\n",
              "      <th>007460</th>\n",
              "      <td>86</td>\n",
              "      <td>45</td>\n",
              "      <td>0.523256</td>\n",
              "    </tr>\n",
              "    <tr>\n",
              "      <th>...</th>\n",
              "      <td>...</td>\n",
              "      <td>...</td>\n",
              "      <td>...</td>\n",
              "    </tr>\n",
              "    <tr>\n",
              "      <th>043260</th>\n",
              "      <td>53</td>\n",
              "      <td>3</td>\n",
              "      <td>0.056604</td>\n",
              "    </tr>\n",
              "    <tr>\n",
              "      <th>014830</th>\n",
              "      <td>25</td>\n",
              "      <td>1</td>\n",
              "      <td>0.040000</td>\n",
              "    </tr>\n",
              "    <tr>\n",
              "      <th>226340</th>\n",
              "      <td>28</td>\n",
              "      <td>1</td>\n",
              "      <td>0.035714</td>\n",
              "    </tr>\n",
              "    <tr>\n",
              "      <th>138070</th>\n",
              "      <td>29</td>\n",
              "      <td>1</td>\n",
              "      <td>0.034483</td>\n",
              "    </tr>\n",
              "    <tr>\n",
              "      <th>129260</th>\n",
              "      <td>40</td>\n",
              "      <td>0</td>\n",
              "      <td>0.000000</td>\n",
              "    </tr>\n",
              "  </tbody>\n",
              "</table>\n",
              "<p>1433 rows × 3 columns</p>\n",
              "</div>"
            ],
            "text/plain": [
              "             all_c  up_c  up_ratio\n",
              "source_code                       \n",
              "005610          73    48  0.657534\n",
              "192390          35    22  0.628571\n",
              "014970          87    50  0.574713\n",
              "007700          42    22  0.523810\n",
              "007460          86    45  0.523256\n",
              "...            ...   ...       ...\n",
              "043260          53     3  0.056604\n",
              "014830          25     1  0.040000\n",
              "226340          28     1  0.035714\n",
              "138070          29     1  0.034483\n",
              "129260          40     0  0.000000\n",
              "\n",
              "[1433 rows x 3 columns]"
            ]
          },
          "metadata": {},
          "execution_count": 128
        }
      ]
    },
    {
      "cell_type": "code",
      "metadata": {
        "colab": {
          "base_uri": "https://localhost:8080/",
          "height": 506
        },
        "id": "I2LCpLQbwlEh",
        "outputId": "85406d18-051b-4b4c-ce8c-32cf6db621ce"
      },
      "source": [
        "gb1[[\n",
        "     'd0_1_p',\n",
        "     'd0_2_p',\n",
        "     'd1_1_p',\n",
        "     'd1_2_p',\n",
        "     'd2_1_p',\n",
        "     'd2_2_p',\n",
        "     ]].agg(['mean','max','count'])"
      ],
      "execution_count": null,
      "outputs": [
        {
          "output_type": "execute_result",
          "data": {
            "text/html": [
              "<div>\n",
              "<style scoped>\n",
              "    .dataframe tbody tr th:only-of-type {\n",
              "        vertical-align: middle;\n",
              "    }\n",
              "\n",
              "    .dataframe tbody tr th {\n",
              "        vertical-align: top;\n",
              "    }\n",
              "\n",
              "    .dataframe thead tr th {\n",
              "        text-align: left;\n",
              "    }\n",
              "\n",
              "    .dataframe thead tr:last-of-type th {\n",
              "        text-align: right;\n",
              "    }\n",
              "</style>\n",
              "<table border=\"1\" class=\"dataframe\">\n",
              "  <thead>\n",
              "    <tr>\n",
              "      <th></th>\n",
              "      <th colspan=\"3\" halign=\"left\">d0_1_p</th>\n",
              "      <th colspan=\"3\" halign=\"left\">d0_2_p</th>\n",
              "      <th colspan=\"3\" halign=\"left\">d1_1_p</th>\n",
              "      <th colspan=\"3\" halign=\"left\">d1_2_p</th>\n",
              "      <th colspan=\"3\" halign=\"left\">d2_1_p</th>\n",
              "      <th colspan=\"3\" halign=\"left\">d2_2_p</th>\n",
              "    </tr>\n",
              "    <tr>\n",
              "      <th></th>\n",
              "      <th>mean</th>\n",
              "      <th>max</th>\n",
              "      <th>count</th>\n",
              "      <th>mean</th>\n",
              "      <th>max</th>\n",
              "      <th>count</th>\n",
              "      <th>mean</th>\n",
              "      <th>max</th>\n",
              "      <th>count</th>\n",
              "      <th>mean</th>\n",
              "      <th>max</th>\n",
              "      <th>count</th>\n",
              "      <th>mean</th>\n",
              "      <th>max</th>\n",
              "      <th>count</th>\n",
              "      <th>mean</th>\n",
              "      <th>max</th>\n",
              "      <th>count</th>\n",
              "    </tr>\n",
              "    <tr>\n",
              "      <th>source_code</th>\n",
              "      <th></th>\n",
              "      <th></th>\n",
              "      <th></th>\n",
              "      <th></th>\n",
              "      <th></th>\n",
              "      <th></th>\n",
              "      <th></th>\n",
              "      <th></th>\n",
              "      <th></th>\n",
              "      <th></th>\n",
              "      <th></th>\n",
              "      <th></th>\n",
              "      <th></th>\n",
              "      <th></th>\n",
              "      <th></th>\n",
              "      <th></th>\n",
              "      <th></th>\n",
              "      <th></th>\n",
              "    </tr>\n",
              "  </thead>\n",
              "  <tbody>\n",
              "    <tr>\n",
              "      <th>000020</th>\n",
              "      <td>1.027874</td>\n",
              "      <td>1.075446</td>\n",
              "      <td>91</td>\n",
              "      <td>1.0</td>\n",
              "      <td>1.0</td>\n",
              "      <td>91</td>\n",
              "      <td>1.002378</td>\n",
              "      <td>1.037778</td>\n",
              "      <td>91</td>\n",
              "      <td>1.005005</td>\n",
              "      <td>1.152778</td>\n",
              "      <td>91</td>\n",
              "      <td>1.006712</td>\n",
              "      <td>1.152778</td>\n",
              "      <td>91</td>\n",
              "      <td>1.014272</td>\n",
              "      <td>1.339380</td>\n",
              "      <td>91</td>\n",
              "    </tr>\n",
              "    <tr>\n",
              "      <th>000040</th>\n",
              "      <td>0.964125</td>\n",
              "      <td>0.983853</td>\n",
              "      <td>11</td>\n",
              "      <td>1.0</td>\n",
              "      <td>1.0</td>\n",
              "      <td>11</td>\n",
              "      <td>1.000214</td>\n",
              "      <td>1.019031</td>\n",
              "      <td>11</td>\n",
              "      <td>1.003989</td>\n",
              "      <td>1.033898</td>\n",
              "      <td>11</td>\n",
              "      <td>1.009653</td>\n",
              "      <td>1.053633</td>\n",
              "      <td>11</td>\n",
              "      <td>1.018283</td>\n",
              "      <td>1.072664</td>\n",
              "      <td>11</td>\n",
              "    </tr>\n",
              "    <tr>\n",
              "      <th>000050</th>\n",
              "      <td>0.962746</td>\n",
              "      <td>0.987315</td>\n",
              "      <td>10</td>\n",
              "      <td>1.0</td>\n",
              "      <td>1.0</td>\n",
              "      <td>10</td>\n",
              "      <td>0.987747</td>\n",
              "      <td>1.007517</td>\n",
              "      <td>10</td>\n",
              "      <td>0.993795</td>\n",
              "      <td>1.023782</td>\n",
              "      <td>10</td>\n",
              "      <td>0.994429</td>\n",
              "      <td>1.023555</td>\n",
              "      <td>10</td>\n",
              "      <td>1.004573</td>\n",
              "      <td>1.040201</td>\n",
              "      <td>10</td>\n",
              "    </tr>\n",
              "    <tr>\n",
              "      <th>000070</th>\n",
              "      <td>0.945728</td>\n",
              "      <td>0.988372</td>\n",
              "      <td>87</td>\n",
              "      <td>1.0</td>\n",
              "      <td>1.0</td>\n",
              "      <td>87</td>\n",
              "      <td>1.004770</td>\n",
              "      <td>1.089168</td>\n",
              "      <td>87</td>\n",
              "      <td>0.999373</td>\n",
              "      <td>1.200064</td>\n",
              "      <td>87</td>\n",
              "      <td>1.000461</td>\n",
              "      <td>1.196202</td>\n",
              "      <td>87</td>\n",
              "      <td>1.000219</td>\n",
              "      <td>1.160526</td>\n",
              "      <td>87</td>\n",
              "    </tr>\n",
              "    <tr>\n",
              "      <th>000075</th>\n",
              "      <td>0.977685</td>\n",
              "      <td>0.996219</td>\n",
              "      <td>57</td>\n",
              "      <td>1.0</td>\n",
              "      <td>1.0</td>\n",
              "      <td>57</td>\n",
              "      <td>0.999595</td>\n",
              "      <td>1.016097</td>\n",
              "      <td>57</td>\n",
              "      <td>1.010736</td>\n",
              "      <td>1.170954</td>\n",
              "      <td>57</td>\n",
              "      <td>1.015025</td>\n",
              "      <td>1.186722</td>\n",
              "      <td>57</td>\n",
              "      <td>1.020221</td>\n",
              "      <td>1.204149</td>\n",
              "      <td>57</td>\n",
              "    </tr>\n",
              "    <tr>\n",
              "      <th>...</th>\n",
              "      <td>...</td>\n",
              "      <td>...</td>\n",
              "      <td>...</td>\n",
              "      <td>...</td>\n",
              "      <td>...</td>\n",
              "      <td>...</td>\n",
              "      <td>...</td>\n",
              "      <td>...</td>\n",
              "      <td>...</td>\n",
              "      <td>...</td>\n",
              "      <td>...</td>\n",
              "      <td>...</td>\n",
              "      <td>...</td>\n",
              "      <td>...</td>\n",
              "      <td>...</td>\n",
              "      <td>...</td>\n",
              "      <td>...</td>\n",
              "      <td>...</td>\n",
              "    </tr>\n",
              "    <tr>\n",
              "      <th>950170</th>\n",
              "      <td>0.971211</td>\n",
              "      <td>0.986441</td>\n",
              "      <td>9</td>\n",
              "      <td>1.0</td>\n",
              "      <td>1.0</td>\n",
              "      <td>9</td>\n",
              "      <td>1.002512</td>\n",
              "      <td>1.018416</td>\n",
              "      <td>9</td>\n",
              "      <td>1.008154</td>\n",
              "      <td>1.044068</td>\n",
              "      <td>9</td>\n",
              "      <td>1.014901</td>\n",
              "      <td>1.050847</td>\n",
              "      <td>9</td>\n",
              "      <td>1.016028</td>\n",
              "      <td>1.084746</td>\n",
              "      <td>9</td>\n",
              "    </tr>\n",
              "    <tr>\n",
              "      <th>950180</th>\n",
              "      <td>1.019775</td>\n",
              "      <td>1.020319</td>\n",
              "      <td>2</td>\n",
              "      <td>1.0</td>\n",
              "      <td>1.0</td>\n",
              "      <td>2</td>\n",
              "      <td>0.945864</td>\n",
              "      <td>0.984615</td>\n",
              "      <td>2</td>\n",
              "      <td>0.946589</td>\n",
              "      <td>0.984615</td>\n",
              "      <td>2</td>\n",
              "      <td>0.948004</td>\n",
              "      <td>0.996154</td>\n",
              "      <td>2</td>\n",
              "      <td>0.950435</td>\n",
              "      <td>0.992308</td>\n",
              "      <td>2</td>\n",
              "    </tr>\n",
              "    <tr>\n",
              "      <th>950200</th>\n",
              "      <td>0.969880</td>\n",
              "      <td>1.000000</td>\n",
              "      <td>94</td>\n",
              "      <td>1.0</td>\n",
              "      <td>1.0</td>\n",
              "      <td>94</td>\n",
              "      <td>0.999885</td>\n",
              "      <td>1.043053</td>\n",
              "      <td>94</td>\n",
              "      <td>0.996933</td>\n",
              "      <td>1.117417</td>\n",
              "      <td>94</td>\n",
              "      <td>1.000841</td>\n",
              "      <td>1.204878</td>\n",
              "      <td>94</td>\n",
              "      <td>0.990041</td>\n",
              "      <td>1.158513</td>\n",
              "      <td>94</td>\n",
              "    </tr>\n",
              "    <tr>\n",
              "      <th>950210</th>\n",
              "      <td>1.026956</td>\n",
              "      <td>1.045226</td>\n",
              "      <td>10</td>\n",
              "      <td>1.0</td>\n",
              "      <td>1.0</td>\n",
              "      <td>10</td>\n",
              "      <td>1.000104</td>\n",
              "      <td>1.011699</td>\n",
              "      <td>10</td>\n",
              "      <td>0.990933</td>\n",
              "      <td>1.010521</td>\n",
              "      <td>10</td>\n",
              "      <td>0.992729</td>\n",
              "      <td>1.024183</td>\n",
              "      <td>10</td>\n",
              "      <td>0.984525</td>\n",
              "      <td>1.043902</td>\n",
              "      <td>10</td>\n",
              "    </tr>\n",
              "    <tr>\n",
              "      <th>950220</th>\n",
              "      <td>0.965012</td>\n",
              "      <td>0.993964</td>\n",
              "      <td>67</td>\n",
              "      <td>1.0</td>\n",
              "      <td>1.0</td>\n",
              "      <td>67</td>\n",
              "      <td>1.000378</td>\n",
              "      <td>1.179487</td>\n",
              "      <td>67</td>\n",
              "      <td>1.002956</td>\n",
              "      <td>1.091216</td>\n",
              "      <td>67</td>\n",
              "      <td>1.003420</td>\n",
              "      <td>1.097152</td>\n",
              "      <td>67</td>\n",
              "      <td>1.006311</td>\n",
              "      <td>1.124031</td>\n",
              "      <td>67</td>\n",
              "    </tr>\n",
              "  </tbody>\n",
              "</table>\n",
              "<p>2080 rows × 18 columns</p>\n",
              "</div>"
            ],
            "text/plain": [
              "               d0_1_p                 d0_2_p  ... d2_1_p    d2_2_p                \n",
              "                 mean       max count   mean  ...  count      mean       max count\n",
              "source_code                                   ...                                 \n",
              "000020       1.027874  1.075446    91    1.0  ...     91  1.014272  1.339380    91\n",
              "000040       0.964125  0.983853    11    1.0  ...     11  1.018283  1.072664    11\n",
              "000050       0.962746  0.987315    10    1.0  ...     10  1.004573  1.040201    10\n",
              "000070       0.945728  0.988372    87    1.0  ...     87  1.000219  1.160526    87\n",
              "000075       0.977685  0.996219    57    1.0  ...     57  1.020221  1.204149    57\n",
              "...               ...       ...   ...    ...  ...    ...       ...       ...   ...\n",
              "950170       0.971211  0.986441     9    1.0  ...      9  1.016028  1.084746     9\n",
              "950180       1.019775  1.020319     2    1.0  ...      2  0.950435  0.992308     2\n",
              "950200       0.969880  1.000000    94    1.0  ...     94  0.990041  1.158513    94\n",
              "950210       1.026956  1.045226    10    1.0  ...     10  0.984525  1.043902    10\n",
              "950220       0.965012  0.993964    67    1.0  ...     67  1.006311  1.124031    67\n",
              "\n",
              "[2080 rows x 18 columns]"
            ]
          },
          "metadata": {},
          "execution_count": 322
        }
      ]
    },
    {
      "cell_type": "code",
      "metadata": {
        "colab": {
          "base_uri": "https://localhost:8080/",
          "height": 506
        },
        "id": "mKXlyoX3pSwT",
        "outputId": "4860179f-1925-4e45-c5f4-9ce789a54917"
      },
      "source": [
        "(gb1[[\n",
        "     'd1_1_p',\n",
        "     'd1_2_p',\n",
        "     'd2_1_p',\n",
        "     'd2_2_p',\n",
        "     ]].agg(['mean','max','count'])\n",
        "     [lambda df: df[('d1_1_p','count')] > 10]\n",
        "     .sort_values(('d1_2_p','mean'), ascending=False)\n",
        ")"
      ],
      "execution_count": null,
      "outputs": [
        {
          "output_type": "execute_result",
          "data": {
            "text/html": [
              "<div>\n",
              "<style scoped>\n",
              "    .dataframe tbody tr th:only-of-type {\n",
              "        vertical-align: middle;\n",
              "    }\n",
              "\n",
              "    .dataframe tbody tr th {\n",
              "        vertical-align: top;\n",
              "    }\n",
              "\n",
              "    .dataframe thead tr th {\n",
              "        text-align: left;\n",
              "    }\n",
              "\n",
              "    .dataframe thead tr:last-of-type th {\n",
              "        text-align: right;\n",
              "    }\n",
              "</style>\n",
              "<table border=\"1\" class=\"dataframe\">\n",
              "  <thead>\n",
              "    <tr>\n",
              "      <th></th>\n",
              "      <th colspan=\"3\" halign=\"left\">d1_1_p</th>\n",
              "      <th colspan=\"3\" halign=\"left\">d1_2_p</th>\n",
              "      <th colspan=\"3\" halign=\"left\">d2_1_p</th>\n",
              "      <th colspan=\"3\" halign=\"left\">d2_2_p</th>\n",
              "    </tr>\n",
              "    <tr>\n",
              "      <th></th>\n",
              "      <th>mean</th>\n",
              "      <th>max</th>\n",
              "      <th>count</th>\n",
              "      <th>mean</th>\n",
              "      <th>max</th>\n",
              "      <th>count</th>\n",
              "      <th>mean</th>\n",
              "      <th>max</th>\n",
              "      <th>count</th>\n",
              "      <th>mean</th>\n",
              "      <th>max</th>\n",
              "      <th>count</th>\n",
              "    </tr>\n",
              "    <tr>\n",
              "      <th>source_code</th>\n",
              "      <th></th>\n",
              "      <th></th>\n",
              "      <th></th>\n",
              "      <th></th>\n",
              "      <th></th>\n",
              "      <th></th>\n",
              "      <th></th>\n",
              "      <th></th>\n",
              "      <th></th>\n",
              "      <th></th>\n",
              "      <th></th>\n",
              "      <th></th>\n",
              "    </tr>\n",
              "  </thead>\n",
              "  <tbody>\n",
              "    <tr>\n",
              "      <th>005945</th>\n",
              "      <td>1.007174</td>\n",
              "      <td>1.084320</td>\n",
              "      <td>12</td>\n",
              "      <td>1.035371</td>\n",
              "      <td>1.148148</td>\n",
              "      <td>12</td>\n",
              "      <td>1.042225</td>\n",
              "      <td>1.148669</td>\n",
              "      <td>12</td>\n",
              "      <td>1.032245</td>\n",
              "      <td>1.200444</td>\n",
              "      <td>12</td>\n",
              "    </tr>\n",
              "    <tr>\n",
              "      <th>033180</th>\n",
              "      <td>1.003727</td>\n",
              "      <td>1.062315</td>\n",
              "      <td>15</td>\n",
              "      <td>1.029587</td>\n",
              "      <td>1.298300</td>\n",
              "      <td>15</td>\n",
              "      <td>0.929231</td>\n",
              "      <td>1.028049</td>\n",
              "      <td>15</td>\n",
              "      <td>1.036787</td>\n",
              "      <td>1.298300</td>\n",
              "      <td>15</td>\n",
              "    </tr>\n",
              "    <tr>\n",
              "      <th>111770</th>\n",
              "      <td>1.009004</td>\n",
              "      <td>1.087678</td>\n",
              "      <td>17</td>\n",
              "      <td>1.028934</td>\n",
              "      <td>1.297038</td>\n",
              "      <td>17</td>\n",
              "      <td>1.045392</td>\n",
              "      <td>1.471577</td>\n",
              "      <td>17</td>\n",
              "      <td>1.033519</td>\n",
              "      <td>1.315166</td>\n",
              "      <td>17</td>\n",
              "    </tr>\n",
              "    <tr>\n",
              "      <th>066970</th>\n",
              "      <td>1.000242</td>\n",
              "      <td>1.013489</td>\n",
              "      <td>14</td>\n",
              "      <td>1.026147</td>\n",
              "      <td>1.145122</td>\n",
              "      <td>14</td>\n",
              "      <td>1.046643</td>\n",
              "      <td>1.301667</td>\n",
              "      <td>14</td>\n",
              "      <td>1.044292</td>\n",
              "      <td>1.302149</td>\n",
              "      <td>14</td>\n",
              "    </tr>\n",
              "    <tr>\n",
              "      <th>005610</th>\n",
              "      <td>0.999777</td>\n",
              "      <td>1.054264</td>\n",
              "      <td>73</td>\n",
              "      <td>1.026133</td>\n",
              "      <td>1.133829</td>\n",
              "      <td>73</td>\n",
              "      <td>1.029671</td>\n",
              "      <td>1.161712</td>\n",
              "      <td>73</td>\n",
              "      <td>1.037588</td>\n",
              "      <td>1.154394</td>\n",
              "      <td>73</td>\n",
              "    </tr>\n",
              "    <tr>\n",
              "      <th>...</th>\n",
              "      <td>...</td>\n",
              "      <td>...</td>\n",
              "      <td>...</td>\n",
              "      <td>...</td>\n",
              "      <td>...</td>\n",
              "      <td>...</td>\n",
              "      <td>...</td>\n",
              "      <td>...</td>\n",
              "      <td>...</td>\n",
              "      <td>...</td>\n",
              "      <td>...</td>\n",
              "      <td>...</td>\n",
              "    </tr>\n",
              "    <tr>\n",
              "      <th>123040</th>\n",
              "      <td>1.005339</td>\n",
              "      <td>1.024540</td>\n",
              "      <td>36</td>\n",
              "      <td>0.971221</td>\n",
              "      <td>1.075939</td>\n",
              "      <td>36</td>\n",
              "      <td>0.990684</td>\n",
              "      <td>1.078798</td>\n",
              "      <td>36</td>\n",
              "      <td>0.917343</td>\n",
              "      <td>1.096174</td>\n",
              "      <td>36</td>\n",
              "    </tr>\n",
              "    <tr>\n",
              "      <th>025540</th>\n",
              "      <td>1.005076</td>\n",
              "      <td>1.062824</td>\n",
              "      <td>25</td>\n",
              "      <td>0.970302</td>\n",
              "      <td>1.085106</td>\n",
              "      <td>25</td>\n",
              "      <td>0.982466</td>\n",
              "      <td>1.069149</td>\n",
              "      <td>25</td>\n",
              "      <td>0.910332</td>\n",
              "      <td>1.090426</td>\n",
              "      <td>25</td>\n",
              "    </tr>\n",
              "    <tr>\n",
              "      <th>900300</th>\n",
              "      <td>1.002435</td>\n",
              "      <td>1.023622</td>\n",
              "      <td>23</td>\n",
              "      <td>0.967760</td>\n",
              "      <td>1.080045</td>\n",
              "      <td>23</td>\n",
              "      <td>0.980215</td>\n",
              "      <td>1.093574</td>\n",
              "      <td>23</td>\n",
              "      <td>0.909230</td>\n",
              "      <td>1.075536</td>\n",
              "      <td>23</td>\n",
              "    </tr>\n",
              "    <tr>\n",
              "      <th>005720</th>\n",
              "      <td>1.000744</td>\n",
              "      <td>1.029745</td>\n",
              "      <td>42</td>\n",
              "      <td>0.959105</td>\n",
              "      <td>1.053571</td>\n",
              "      <td>42</td>\n",
              "      <td>0.972880</td>\n",
              "      <td>1.064286</td>\n",
              "      <td>42</td>\n",
              "      <td>0.901099</td>\n",
              "      <td>1.114286</td>\n",
              "      <td>42</td>\n",
              "    </tr>\n",
              "    <tr>\n",
              "      <th>019440</th>\n",
              "      <td>1.004302</td>\n",
              "      <td>1.035294</td>\n",
              "      <td>17</td>\n",
              "      <td>0.957529</td>\n",
              "      <td>1.080610</td>\n",
              "      <td>17</td>\n",
              "      <td>0.976770</td>\n",
              "      <td>1.080610</td>\n",
              "      <td>17</td>\n",
              "      <td>0.862792</td>\n",
              "      <td>1.076253</td>\n",
              "      <td>17</td>\n",
              "    </tr>\n",
              "  </tbody>\n",
              "</table>\n",
              "<p>1629 rows × 12 columns</p>\n",
              "</div>"
            ],
            "text/plain": [
              "               d1_1_p                    d1_2_p  ... d2_1_p    d2_2_p                \n",
              "                 mean       max count      mean  ...  count      mean       max count\n",
              "source_code                                      ...                                 \n",
              "005945       1.007174  1.084320    12  1.035371  ...     12  1.032245  1.200444    12\n",
              "033180       1.003727  1.062315    15  1.029587  ...     15  1.036787  1.298300    15\n",
              "111770       1.009004  1.087678    17  1.028934  ...     17  1.033519  1.315166    17\n",
              "066970       1.000242  1.013489    14  1.026147  ...     14  1.044292  1.302149    14\n",
              "005610       0.999777  1.054264    73  1.026133  ...     73  1.037588  1.154394    73\n",
              "...               ...       ...   ...       ...  ...    ...       ...       ...   ...\n",
              "123040       1.005339  1.024540    36  0.971221  ...     36  0.917343  1.096174    36\n",
              "025540       1.005076  1.062824    25  0.970302  ...     25  0.910332  1.090426    25\n",
              "900300       1.002435  1.023622    23  0.967760  ...     23  0.909230  1.075536    23\n",
              "005720       1.000744  1.029745    42  0.959105  ...     42  0.901099  1.114286    42\n",
              "019440       1.004302  1.035294    17  0.957529  ...     17  0.862792  1.076253    17\n",
              "\n",
              "[1629 rows x 12 columns]"
            ]
          },
          "metadata": {},
          "execution_count": 323
        }
      ]
    },
    {
      "cell_type": "code",
      "metadata": {
        "id": "VIlG94upr15X"
      },
      "source": [
        "_df_ = \\\n",
        "(df_ret\n",
        " [lambda df: df.source_code == '073190']\n",
        " .filter(regex='code|date|simila|_p')\n",
        ")"
      ],
      "execution_count": null,
      "outputs": []
    },
    {
      "cell_type": "code",
      "metadata": {
        "colab": {
          "base_uri": "https://localhost:8080/"
        },
        "id": "EObtVjkCtz9z",
        "outputId": "f478630f-a46a-45ca-c309-1be4ddb342ee"
      },
      "source": [
        "_df_.groupby('source_code')"
      ],
      "execution_count": null,
      "outputs": [
        {
          "output_type": "execute_result",
          "data": {
            "text/plain": [
              "<pandas.core.groupby.generic.DataFrameGroupBy object at 0x7f069933c690>"
            ]
          },
          "metadata": {},
          "execution_count": 272
        }
      ]
    },
    {
      "cell_type": "markdown",
      "metadata": {
        "id": "q-P8vRFu9TF1"
      },
      "source": [
        "*🔥🔥🔥*      last column number initialize\n",
        " 1. reshape with numpy or torch.... not \n",
        " 2. groupby transpose\n",
        "  - 🇹 groupby group get easy way \n",
        " 3. polars to increase speed"
      ]
    },
    {
      "cell_type": "code",
      "metadata": {
        "id": "C2qneFpIFBnp"
      },
      "source": [
        "gb1 = sr_re.groupby(['date', 'code'])"
      ],
      "execution_count": null,
      "outputs": []
    },
    {
      "cell_type": "code",
      "metadata": {
        "colab": {
          "base_uri": "https://localhost:8080/"
        },
        "id": "shXVwu22FMcJ",
        "outputId": "d50ac682-504b-47a3-f2bf-b6be201ebf54"
      },
      "source": [
        "gb1.apply(lambda df: df.shape)"
      ],
      "execution_count": null,
      "outputs": [
        {
          "output_type": "execute_result",
          "data": {
            "text/plain": [
              "date        code  \n",
              "2011-01-10  000390    (34,)\n",
              "            001140    (34,)\n",
              "            004830    (34,)\n",
              "            043090    (34,)\n",
              "            043910    (34,)\n",
              "                      ...  \n",
              "2021-11-30  021080     (6,)\n",
              "            041960     (6,)\n",
              "            063760     (6,)\n",
              "            304840     (6,)\n",
              "            307180     (6,)\n",
              "Name: adj_price, Length: 55557, dtype: object"
            ]
          },
          "metadata": {},
          "execution_count": 181
        }
      ]
    },
    {
      "cell_type": "code",
      "metadata": {
        "colab": {
          "base_uri": "https://localhost:8080/"
        },
        "id": "-PEVjQt7Hr3b",
        "outputId": "41e5ee8d-4cf7-44e7-b60d-c8868141556a"
      },
      "source": [
        "sr_re"
      ],
      "execution_count": null,
      "outputs": [
        {
          "output_type": "execute_result",
          "data": {
            "text/plain": [
              "date        code           \n",
              "2011-01-10  000390  44660      0.991536\n",
              "                    44708      1.000000\n",
              "                    44756      0.983071\n",
              "                    44793      0.996372\n",
              "                    44830      0.979444\n",
              "                                 ...   \n",
              "2021-11-30  307180  3712983    1.000000\n",
              "                    3713038    1.000000\n",
              "                    3713041    0.994264\n",
              "                    3713044    0.992352\n",
              "                    3713047    0.978967\n",
              "Name: adj_price, Length: 3776376, dtype: float64"
            ]
          },
          "metadata": {},
          "execution_count": 175
        }
      ]
    },
    {
      "cell_type": "code",
      "metadata": {
        "colab": {
          "base_uri": "https://localhost:8080/"
        },
        "id": "8eONqqc1Oa49",
        "outputId": "ce61b0f9-6016-4d9d-fe4d-3ba97322d6c3"
      },
      "source": [
        "a = sr_re.to_frame()\n",
        "a.columns"
      ],
      "execution_count": null,
      "outputs": [
        {
          "output_type": "execute_result",
          "data": {
            "text/plain": [
              "Index(['adj_price'], dtype='object')"
            ]
          },
          "metadata": {},
          "execution_count": 154
        }
      ]
    },
    {
      "cell_type": "code",
      "metadata": {
        "id": "Vd6Q2DZF-S09"
      },
      "source": [
        ""
      ],
      "execution_count": null,
      "outputs": []
    },
    {
      "cell_type": "code",
      "metadata": {
        "colab": {
          "base_uri": "https://localhost:8080/"
        },
        "id": "o3OsQICv9P5J",
        "outputId": "c0c65ae9-8d22-490c-e98c-d5930c2faba0"
      },
      "source": [
        "sr_re"
      ],
      "execution_count": null,
      "outputs": [
        {
          "output_type": "execute_result",
          "data": {
            "text/plain": [
              "date        code           \n",
              "2011-01-10  000390  44660      0.991536\n",
              "                    44708      1.000000\n",
              "                    44756      0.983071\n",
              "                    44793      0.996372\n",
              "                    44830      0.979444\n",
              "                                 ...   \n",
              "2021-11-30  307180  3712983    1.000000\n",
              "                    3713038    1.000000\n",
              "                    3713041    0.994264\n",
              "                    3713044    0.992352\n",
              "                    3713047    0.978967\n",
              "Name: adj_price, Length: 3776376, dtype: float64"
            ]
          },
          "metadata": {},
          "execution_count": 159
        }
      ]
    },
    {
      "cell_type": "code",
      "metadata": {
        "colab": {
          "base_uri": "https://localhost:8080/"
        },
        "id": "ekKB9ZwvO0yO",
        "outputId": "0c1d06d4-58f1-4de7-b38a-10329d921a45"
      },
      "source": [
        "sr_re.groupby(['date','code']).apply(lambda df: df.pivot_table(index))"
      ],
      "execution_count": null,
      "outputs": [
        {
          "output_type": "execute_result",
          "data": {
            "text/plain": [
              "<pandas.core.groupby.generic.SeriesGroupBy object at 0x7f06b23a4090>"
            ]
          },
          "metadata": {},
          "execution_count": 153
        }
      ]
    },
    {
      "cell_type": "code",
      "metadata": {
        "colab": {
          "base_uri": "https://localhost:8080/",
          "height": 1000
        },
        "id": "7F0Gtjnh_zGy",
        "outputId": "de2e4a81-3b71-4046-b86b-011f2639edd6"
      },
      "source": [
        "(df\n",
        " [cols_all]\n",
        " .set_index(cols_1)\n",
        " .stack()\n",
        " .to_frame()\n",
        " .rename(columns={0:'date_passed'})\n",
        ")"
      ],
      "execution_count": null,
      "outputs": [
        {
          "output_type": "execute_result",
          "data": {
            "text/html": [
              "<div>\n",
              "<style scoped>\n",
              "    .dataframe tbody tr th:only-of-type {\n",
              "        vertical-align: middle;\n",
              "    }\n",
              "\n",
              "    .dataframe tbody tr th {\n",
              "        vertical-align: top;\n",
              "    }\n",
              "\n",
              "    .dataframe thead th {\n",
              "        text-align: right;\n",
              "    }\n",
              "</style>\n",
              "<table border=\"1\" class=\"dataframe\">\n",
              "  <thead>\n",
              "    <tr style=\"text-align: right;\">\n",
              "      <th></th>\n",
              "      <th></th>\n",
              "      <th></th>\n",
              "      <th></th>\n",
              "      <th></th>\n",
              "      <th>date_passed</th>\n",
              "    </tr>\n",
              "    <tr>\n",
              "      <th>date</th>\n",
              "      <th>code</th>\n",
              "      <th>source_code</th>\n",
              "      <th>source_date</th>\n",
              "      <th></th>\n",
              "      <th></th>\n",
              "    </tr>\n",
              "  </thead>\n",
              "  <tbody>\n",
              "    <tr>\n",
              "      <th rowspan=\"40\" valign=\"top\">2011-01-10</th>\n",
              "      <th rowspan=\"8\" valign=\"top\">000390</th>\n",
              "      <th rowspan=\"8\" valign=\"top\">073190</th>\n",
              "      <th rowspan=\"8\" valign=\"top\">2021-12-01</th>\n",
              "      <th>d0_op</th>\n",
              "      <td>2011-01-10 09:00:00</td>\n",
              "    </tr>\n",
              "    <tr>\n",
              "      <th>d0_clos</th>\n",
              "      <td>2011-01-10 15:30:00</td>\n",
              "    </tr>\n",
              "    <tr>\n",
              "      <th>d1_op</th>\n",
              "      <td>2011-01-11 09:00:00</td>\n",
              "    </tr>\n",
              "    <tr>\n",
              "      <th>d1_clos</th>\n",
              "      <td>2011-01-11 15:30:00</td>\n",
              "    </tr>\n",
              "    <tr>\n",
              "      <th>d2_op</th>\n",
              "      <td>2011-01-12 09:00:00</td>\n",
              "    </tr>\n",
              "    <tr>\n",
              "      <th>d2_clos</th>\n",
              "      <td>2011-01-12 15:30:00</td>\n",
              "    </tr>\n",
              "    <tr>\n",
              "      <th>d3_op</th>\n",
              "      <td>2011-01-13 09:00:00</td>\n",
              "    </tr>\n",
              "    <tr>\n",
              "      <th>d3_clos</th>\n",
              "      <td>2011-01-13 15:30:00</td>\n",
              "    </tr>\n",
              "    <tr>\n",
              "      <th rowspan=\"8\" valign=\"top\">001140</th>\n",
              "      <th rowspan=\"8\" valign=\"top\">307180</th>\n",
              "      <th rowspan=\"8\" valign=\"top\">2021-12-01</th>\n",
              "      <th>d0_op</th>\n",
              "      <td>2011-01-10 09:00:00</td>\n",
              "    </tr>\n",
              "    <tr>\n",
              "      <th>d0_clos</th>\n",
              "      <td>2011-01-10 15:30:00</td>\n",
              "    </tr>\n",
              "    <tr>\n",
              "      <th>d1_op</th>\n",
              "      <td>2011-01-11 09:00:00</td>\n",
              "    </tr>\n",
              "    <tr>\n",
              "      <th>d1_clos</th>\n",
              "      <td>2011-01-11 15:30:00</td>\n",
              "    </tr>\n",
              "    <tr>\n",
              "      <th>d2_op</th>\n",
              "      <td>2011-01-12 09:00:00</td>\n",
              "    </tr>\n",
              "    <tr>\n",
              "      <th>d2_clos</th>\n",
              "      <td>2011-01-12 15:30:00</td>\n",
              "    </tr>\n",
              "    <tr>\n",
              "      <th>d3_op</th>\n",
              "      <td>2011-01-13 09:00:00</td>\n",
              "    </tr>\n",
              "    <tr>\n",
              "      <th>d3_clos</th>\n",
              "      <td>2011-01-13 15:30:00</td>\n",
              "    </tr>\n",
              "    <tr>\n",
              "      <th rowspan=\"8\" valign=\"top\">004830</th>\n",
              "      <th rowspan=\"8\" valign=\"top\">063080</th>\n",
              "      <th rowspan=\"8\" valign=\"top\">2021-12-01</th>\n",
              "      <th>d0_op</th>\n",
              "      <td>2011-01-10 09:00:00</td>\n",
              "    </tr>\n",
              "    <tr>\n",
              "      <th>d0_clos</th>\n",
              "      <td>2011-01-10 15:30:00</td>\n",
              "    </tr>\n",
              "    <tr>\n",
              "      <th>d1_op</th>\n",
              "      <td>2011-01-11 09:00:00</td>\n",
              "    </tr>\n",
              "    <tr>\n",
              "      <th>d1_clos</th>\n",
              "      <td>2011-01-11 15:30:00</td>\n",
              "    </tr>\n",
              "    <tr>\n",
              "      <th>d2_op</th>\n",
              "      <td>2011-01-12 09:00:00</td>\n",
              "    </tr>\n",
              "    <tr>\n",
              "      <th>d2_clos</th>\n",
              "      <td>2011-01-12 15:30:00</td>\n",
              "    </tr>\n",
              "    <tr>\n",
              "      <th>d3_op</th>\n",
              "      <td>2011-01-13 09:00:00</td>\n",
              "    </tr>\n",
              "    <tr>\n",
              "      <th>d3_clos</th>\n",
              "      <td>2011-01-13 15:30:00</td>\n",
              "    </tr>\n",
              "    <tr>\n",
              "      <th rowspan=\"8\" valign=\"top\">043090</th>\n",
              "      <th rowspan=\"8\" valign=\"top\">228760</th>\n",
              "      <th rowspan=\"8\" valign=\"top\">2021-12-01</th>\n",
              "      <th>d0_op</th>\n",
              "      <td>2011-01-10 09:00:00</td>\n",
              "    </tr>\n",
              "    <tr>\n",
              "      <th>d0_clos</th>\n",
              "      <td>2011-01-10 15:30:00</td>\n",
              "    </tr>\n",
              "    <tr>\n",
              "      <th>d1_op</th>\n",
              "      <td>2011-01-11 09:00:00</td>\n",
              "    </tr>\n",
              "    <tr>\n",
              "      <th>d1_clos</th>\n",
              "      <td>2011-01-11 15:30:00</td>\n",
              "    </tr>\n",
              "    <tr>\n",
              "      <th>d2_op</th>\n",
              "      <td>2011-01-12 09:00:00</td>\n",
              "    </tr>\n",
              "    <tr>\n",
              "      <th>d2_clos</th>\n",
              "      <td>2011-01-12 15:30:00</td>\n",
              "    </tr>\n",
              "    <tr>\n",
              "      <th>d3_op</th>\n",
              "      <td>2011-01-13 09:00:00</td>\n",
              "    </tr>\n",
              "    <tr>\n",
              "      <th>d3_clos</th>\n",
              "      <td>2011-01-13 15:30:00</td>\n",
              "    </tr>\n",
              "    <tr>\n",
              "      <th rowspan=\"8\" valign=\"top\">043910</th>\n",
              "      <th rowspan=\"8\" valign=\"top\">118990</th>\n",
              "      <th rowspan=\"8\" valign=\"top\">2021-12-01</th>\n",
              "      <th>d0_op</th>\n",
              "      <td>2011-01-10 09:00:00</td>\n",
              "    </tr>\n",
              "    <tr>\n",
              "      <th>d0_clos</th>\n",
              "      <td>2011-01-10 15:30:00</td>\n",
              "    </tr>\n",
              "    <tr>\n",
              "      <th>d1_op</th>\n",
              "      <td>2011-01-11 09:00:00</td>\n",
              "    </tr>\n",
              "    <tr>\n",
              "      <th>d1_clos</th>\n",
              "      <td>2011-01-11 15:30:00</td>\n",
              "    </tr>\n",
              "    <tr>\n",
              "      <th>d2_op</th>\n",
              "      <td>2011-01-12 09:00:00</td>\n",
              "    </tr>\n",
              "    <tr>\n",
              "      <th>d2_clos</th>\n",
              "      <td>2011-01-12 15:30:00</td>\n",
              "    </tr>\n",
              "    <tr>\n",
              "      <th>d3_op</th>\n",
              "      <td>2011-01-13 09:00:00</td>\n",
              "    </tr>\n",
              "    <tr>\n",
              "      <th>d3_clos</th>\n",
              "      <td>2011-01-13 15:30:00</td>\n",
              "    </tr>\n",
              "  </tbody>\n",
              "</table>\n",
              "</div>"
            ],
            "text/plain": [
              "                                                          date_passed\n",
              "date       code   source_code source_date                            \n",
              "2011-01-10 000390 073190      2021-12-01  d0_op   2011-01-10 09:00:00\n",
              "                                          d0_clos 2011-01-10 15:30:00\n",
              "                                          d1_op   2011-01-11 09:00:00\n",
              "                                          d1_clos 2011-01-11 15:30:00\n",
              "                                          d2_op   2011-01-12 09:00:00\n",
              "                                          d2_clos 2011-01-12 15:30:00\n",
              "                                          d3_op   2011-01-13 09:00:00\n",
              "                                          d3_clos 2011-01-13 15:30:00\n",
              "           001140 307180      2021-12-01  d0_op   2011-01-10 09:00:00\n",
              "                                          d0_clos 2011-01-10 15:30:00\n",
              "                                          d1_op   2011-01-11 09:00:00\n",
              "                                          d1_clos 2011-01-11 15:30:00\n",
              "                                          d2_op   2011-01-12 09:00:00\n",
              "                                          d2_clos 2011-01-12 15:30:00\n",
              "                                          d3_op   2011-01-13 09:00:00\n",
              "                                          d3_clos 2011-01-13 15:30:00\n",
              "           004830 063080      2021-12-01  d0_op   2011-01-10 09:00:00\n",
              "                                          d0_clos 2011-01-10 15:30:00\n",
              "                                          d1_op   2011-01-11 09:00:00\n",
              "                                          d1_clos 2011-01-11 15:30:00\n",
              "                                          d2_op   2011-01-12 09:00:00\n",
              "                                          d2_clos 2011-01-12 15:30:00\n",
              "                                          d3_op   2011-01-13 09:00:00\n",
              "                                          d3_clos 2011-01-13 15:30:00\n",
              "           043090 228760      2021-12-01  d0_op   2011-01-10 09:00:00\n",
              "                                          d0_clos 2011-01-10 15:30:00\n",
              "                                          d1_op   2011-01-11 09:00:00\n",
              "                                          d1_clos 2011-01-11 15:30:00\n",
              "                                          d2_op   2011-01-12 09:00:00\n",
              "                                          d2_clos 2011-01-12 15:30:00\n",
              "                                          d3_op   2011-01-13 09:00:00\n",
              "                                          d3_clos 2011-01-13 15:30:00\n",
              "           043910 118990      2021-12-01  d0_op   2011-01-10 09:00:00\n",
              "                                          d0_clos 2011-01-10 15:30:00\n",
              "                                          d1_op   2011-01-11 09:00:00\n",
              "                                          d1_clos 2011-01-11 15:30:00\n",
              "                                          d2_op   2011-01-12 09:00:00\n",
              "                                          d2_clos 2011-01-12 15:30:00\n",
              "                                          d3_op   2011-01-13 09:00:00\n",
              "                                          d3_clos 2011-01-13 15:30:00"
            ]
          },
          "metadata": {},
          "execution_count": 100
        }
      ]
    },
    {
      "cell_type": "code",
      "metadata": {
        "id": "oxMGhUwB_mMp"
      },
      "source": [
        "df."
      ],
      "execution_count": null,
      "outputs": []
    },
    {
      "cell_type": "code",
      "metadata": {
        "id": "iyyeoxFi8Kmi"
      },
      "source": [
        "# apply pd.cbday_range 사용해서 펼쳐도 될 듯 하지만\n",
        "a = \\\n",
        "(_df\n",
        ".head(5)\n",
        " .assign(\n",
        "     date_0day=\n",
        "         lambda df: df.date + 0 * cbday,\n",
        "     date_1day=\n",
        "         lambda df: df.date + 1 * cbday,\n",
        "     date_2day=\n",
        "         lambda df: df.date + 2 * cbday,\n",
        "     date_3day=\n",
        "         lambda df: df.date + 3 * cbday,\n",
        "     date_4day=\n",
        "         lambda df: df.date + 4 * cbday,\n",
        "     date_5day=\n",
        "         lambda df: df.date + 5 * cbday,\n",
        "     date_6day=\n",
        "         lambda df: df.date + 6 * cbday,\n",
        "     date_7day=\n",
        "         lambda df: df.date + 7 * cbday\n",
        "         )\n",
        ")\n",
        "cols_ = ['date','code','source_code','source_date',\n",
        "              'date_1day',\n",
        "              'date_2day',\n",
        "              'date_3day',\n",
        "              'date_4day',\n",
        "              'date_5day',\n",
        "              'date_6day',\n",
        "              'date_7day',\n",
        "              ]\n",
        "(a\n",
        " [cols_]\n",
        " .set_index(['date','code','source_code','source_date',\n",
        "              # 'date_1day',\n",
        "              # 'date_2day',\n",
        "              # 'date_3day',\n",
        "              # 'date_4day',\n",
        "              # 'date_5day',\n",
        "              # 'date_6day',\n",
        "              # 'date_7day',\n",
        "              ])\n",
        ".stack()\n",
        ".name('days')\n",
        ").to_frame()"
      ],
      "execution_count": null,
      "outputs": []
    },
    {
      "cell_type": "markdown",
      "metadata": {
        "id": "n1fTwEBINfRp"
      },
      "source": [
        "##🐻 🐻 Polars"
      ]
    },
    {
      "cell_type": "code",
      "metadata": {
        "id": "gCLkegA0mkZi"
      },
      "source": [
        "from typing import List\n",
        "\n",
        "dfp = pl.DataFrame({\n",
        "    'g': [1,1,1,2,2,2,5],\n",
        "    'a': [2,4,5,190, 1,4,1],\n",
        "    'b': [1,3,2,1,43,3,1]\n",
        "})"
      ],
      "execution_count": null,
      "outputs": []
    },
    {
      "cell_type": "code",
      "metadata": {
        "id": "4GZgFLV5m9SH"
      },
      "source": [
        "def get_score(args: List[pl.Series])\n",
        "from \n"
      ],
      "execution_count": null,
      "outputs": []
    },
    {
      "cell_type": "code",
      "metadata": {
        "colab": {
          "base_uri": "https://localhost:8080/"
        },
        "id": "JcuMHbuQ1Dgx",
        "outputId": "59026495-6266-4dac-817a-3e3aef64ecb7"
      },
      "source": [
        "!pip install polars\n",
        "import polars as pl\n",
        "df_pl = pl.from_pandas(df)\n",
        "\n",
        "N_points = 20\n",
        "for days in range(0, N_points): # took so long\n",
        "  df_pl.with_columns([\n",
        "    (pl.col('date') + pd.Timedelta('9h') + days * cbday).alias(f'd{days}_1')\n",
        "    (pl.col('date') + pd.Timedelta('15h30m') + days * cbday).alias(f'd{days}_2')\n",
        "          ]\n",
        "  ) \n",
        "\n",
        "# cols_1 = ['date','code','source_code','source_date',]\n",
        "# cols_d_op = list(\n",
        "#     itertools.chain.from_iterable(\n",
        "#         [(f'd{i}_1',f'd{i}_2') for i in range(0,N_points)])\n",
        "# )\n",
        "# cols_all = cols_1 + cols_d_op\n",
        "# df_pl['test'] = df_pl.\n",
        "price1_pl = pl.from_pandas(price1)\n",
        "# polars example\n",
        "df_pl2 = (df_pl.melt(id_vars=cols_1, value_vars=cols_d_op)\n",
        ".sort(['code','variable'])\n",
        ".join(price1_pl,\n",
        "      left_on=['code', 'value'],\n",
        "      right_on=['code','Date'],\n",
        "      how='left')\n",
        ")\n",
        "(df_pl.head()\n",
        ".melt(id_vars=cols_1, value_vars=cols_d_op)\n",
        ")\n",
        "price1_pl.head()\n"
      ],
      "execution_count": null,
      "outputs": [
        {
          "output_type": "stream",
          "name": "stdout",
          "text": [
            "Collecting polars\n",
            "  Downloading polars-0.10.26-cp36-abi3-manylinux_2_12_x86_64.manylinux2010_x86_64.whl (9.9 MB)\n",
            "\u001b[K     |████████████████████████████████| 9.9 MB 3.8 MB/s \n",
            "\u001b[?25hRequirement already satisfied: numpy in /usr/local/lib/python3.7/dist-packages (from polars) (1.19.5)\n",
            "Installing collected packages: polars\n",
            "Successfully installed polars-0.10.26\n"
          ]
        }
      ]
    },
    {
      "cell_type": "markdown",
      "metadata": {
        "id": "2OXdUKwehC7r"
      },
      "source": [
        "## w **Alphalens**"
      ]
    },
    {
      "cell_type": "code",
      "metadata": {
        "id": "InbU4OEqvcvP"
      },
      "source": [
        "from alphalens.tears import (\n",
        "    create_returns_tear_sheet,\n",
        "    create_event_study_tear_sheet)\n",
        "\n",
        "from alphalens.utils import get_clean_factor_and_forward_returns\n",
        "from alphalens.utils import compute_forward_returns"
      ],
      "execution_count": null,
      "outputs": []
    },
    {
      "cell_type": "code",
      "metadata": {
        "colab": {
          "base_uri": "https://localhost:8080/"
        },
        "id": "SDnJlhxlknPC",
        "outputId": "aa52866e-89fc-4029-e592-2679f4755127"
      },
      "source": [
        "df_factor_3.index.levels[0].min()"
      ],
      "execution_count": null,
      "outputs": [
        {
          "output_type": "execute_result",
          "data": {
            "text/plain": [
              "Timestamp('2011-01-10 00:00:00')"
            ]
          },
          "metadata": {},
          "execution_count": 35
        }
      ]
    },
    {
      "cell_type": "code",
      "metadata": {
        "colab": {
          "base_uri": "https://localhost:8080/"
        },
        "id": "BK2srjDQktnm",
        "outputId": "e590381c-9928-47ae-f6f7-93e583efada9"
      },
      "source": [
        "price.index.min()"
      ],
      "execution_count": null,
      "outputs": [
        {
          "output_type": "execute_result",
          "data": {
            "text/plain": [
              "Timestamp('2011-01-03 09:00:00')"
            ]
          },
          "metadata": {},
          "execution_count": 36
        }
      ]
    },
    {
      "cell_type": "code",
      "metadata": {
        "colab": {
          "base_uri": "https://localhost:8080/"
        },
        "id": "0_Y5kZmHUm6P",
        "outputId": "1249adfd-b016-48d6-e5d7-356c1dfc1912"
      },
      "source": [
        "(price\n",
        " .pct_change()\n",
        " .transpose() # 종목명 날짜 바꾸기\n",
        " .stack()\n",
        ")"
      ],
      "execution_count": null,
      "outputs": [
        {
          "output_type": "execute_result",
          "data": {
            "text/plain": [
              "code    Date               \n",
              "000020  2011-01-03 15:30:00   -0.007519\n",
              "        2011-01-04 09:00:00   -0.005682\n",
              "        2011-01-04 15:30:00    0.009524\n",
              "        2011-01-05 09:00:00    0.000000\n",
              "        2011-01-05 15:30:00   -0.011321\n",
              "                                 ...   \n",
              "950220  2021-11-30 15:30:00   -0.058409\n",
              "        2021-12-01 09:00:00    0.000000\n",
              "        2021-12-01 15:30:00    0.031016\n",
              "        2021-12-02 09:00:00   -0.015560\n",
              "        2021-12-02 15:30:00    0.025290\n",
              "Length: 11902312, dtype: float64"
            ]
          },
          "metadata": {},
          "execution_count": 64
        }
      ]
    },
    {
      "cell_type": "code",
      "metadata": {
        "colab": {
          "base_uri": "https://localhost:8080/"
        },
        "id": "Uv6NvpN2S3rU",
        "outputId": "57bf8c0b-2bba-463e-deeb-a579ea9139fb"
      },
      "source": [
        "price.transpose().stack().pct_change()"
      ],
      "execution_count": null,
      "outputs": [
        {
          "output_type": "execute_result",
          "data": {
            "text/plain": [
              "code    Date               \n",
              "000020  2011-01-03 09:00:00         NaN\n",
              "        2011-01-03 15:30:00   -0.007519\n",
              "        2011-01-04 09:00:00   -0.005682\n",
              "        2011-01-04 15:30:00    0.009524\n",
              "        2011-01-05 09:00:00    0.000000\n",
              "                                 ...   \n",
              "950220  2021-11-30 15:30:00   -0.058409\n",
              "        2021-12-01 09:00:00    0.000000\n",
              "        2021-12-01 15:30:00    0.031016\n",
              "        2021-12-02 09:00:00   -0.015560\n",
              "        2021-12-02 15:30:00    0.025290\n",
              "Length: 11905580, dtype: float64"
            ]
          },
          "metadata": {},
          "execution_count": 59
        }
      ]
    },
    {
      "cell_type": "code",
      "metadata": {
        "colab": {
          "base_uri": "https://localhost:8080/",
          "height": 424
        },
        "id": "d7M806kdSEpQ",
        "outputId": "ffd4d497-96cc-49e1-ffe2-612508973a35"
      },
      "source": [
        "df_factor.reset_index()"
      ],
      "execution_count": null,
      "outputs": [
        {
          "output_type": "execute_result",
          "data": {
            "text/html": [
              "<div>\n",
              "<style scoped>\n",
              "    .dataframe tbody tr th:only-of-type {\n",
              "        vertical-align: middle;\n",
              "    }\n",
              "\n",
              "    .dataframe tbody tr th {\n",
              "        vertical-align: top;\n",
              "    }\n",
              "\n",
              "    .dataframe thead th {\n",
              "        text-align: right;\n",
              "    }\n",
              "</style>\n",
              "<table border=\"1\" class=\"dataframe\">\n",
              "  <thead>\n",
              "    <tr style=\"text-align: right;\">\n",
              "      <th></th>\n",
              "      <th>datetime_to_buy</th>\n",
              "      <th>code</th>\n",
              "      <th>factor</th>\n",
              "      <th>source_code</th>\n",
              "    </tr>\n",
              "  </thead>\n",
              "  <tbody>\n",
              "    <tr>\n",
              "      <th>0</th>\n",
              "      <td>2011-01-10 15:30:00</td>\n",
              "      <td>000390</td>\n",
              "      <td>1</td>\n",
              "      <td>073190</td>\n",
              "    </tr>\n",
              "    <tr>\n",
              "      <th>1</th>\n",
              "      <td>2011-01-10 15:30:00</td>\n",
              "      <td>001140</td>\n",
              "      <td>1</td>\n",
              "      <td>307180</td>\n",
              "    </tr>\n",
              "    <tr>\n",
              "      <th>2</th>\n",
              "      <td>2011-01-10 15:30:00</td>\n",
              "      <td>004830</td>\n",
              "      <td>1</td>\n",
              "      <td>063080</td>\n",
              "    </tr>\n",
              "    <tr>\n",
              "      <th>3</th>\n",
              "      <td>2011-01-10 15:30:00</td>\n",
              "      <td>043090</td>\n",
              "      <td>1</td>\n",
              "      <td>228760</td>\n",
              "    </tr>\n",
              "    <tr>\n",
              "      <th>4</th>\n",
              "      <td>2011-01-10 15:30:00</td>\n",
              "      <td>043910</td>\n",
              "      <td>1</td>\n",
              "      <td>118990</td>\n",
              "    </tr>\n",
              "    <tr>\n",
              "      <th>...</th>\n",
              "      <td>...</td>\n",
              "      <td>...</td>\n",
              "      <td>...</td>\n",
              "      <td>...</td>\n",
              "    </tr>\n",
              "    <tr>\n",
              "      <th>105721</th>\n",
              "      <td>2021-11-30 15:30:00</td>\n",
              "      <td>021080</td>\n",
              "      <td>1</td>\n",
              "      <td>245620</td>\n",
              "    </tr>\n",
              "    <tr>\n",
              "      <th>105722</th>\n",
              "      <td>2021-11-30 15:30:00</td>\n",
              "      <td>041960</td>\n",
              "      <td>1</td>\n",
              "      <td>214870</td>\n",
              "    </tr>\n",
              "    <tr>\n",
              "      <th>105723</th>\n",
              "      <td>2021-11-30 15:30:00</td>\n",
              "      <td>063760</td>\n",
              "      <td>1</td>\n",
              "      <td>302440</td>\n",
              "    </tr>\n",
              "    <tr>\n",
              "      <th>105724</th>\n",
              "      <td>2021-11-30 15:30:00</td>\n",
              "      <td>304840</td>\n",
              "      <td>1</td>\n",
              "      <td>317240</td>\n",
              "    </tr>\n",
              "    <tr>\n",
              "      <th>105725</th>\n",
              "      <td>2021-11-30 15:30:00</td>\n",
              "      <td>307180</td>\n",
              "      <td>1</td>\n",
              "      <td>067170</td>\n",
              "    </tr>\n",
              "  </tbody>\n",
              "</table>\n",
              "<p>105726 rows × 4 columns</p>\n",
              "</div>"
            ],
            "text/plain": [
              "           datetime_to_buy    code  factor source_code\n",
              "0      2011-01-10 15:30:00  000390       1      073190\n",
              "1      2011-01-10 15:30:00  001140       1      307180\n",
              "2      2011-01-10 15:30:00  004830       1      063080\n",
              "3      2011-01-10 15:30:00  043090       1      228760\n",
              "4      2011-01-10 15:30:00  043910       1      118990\n",
              "...                    ...     ...     ...         ...\n",
              "105721 2021-11-30 15:30:00  021080       1      245620\n",
              "105722 2021-11-30 15:30:00  041960       1      214870\n",
              "105723 2021-11-30 15:30:00  063760       1      302440\n",
              "105724 2021-11-30 15:30:00  304840       1      317240\n",
              "105725 2021-11-30 15:30:00  307180       1      067170\n",
              "\n",
              "[105726 rows x 4 columns]"
            ]
          },
          "metadata": {},
          "execution_count": 67
        }
      ]
    },
    {
      "cell_type": "markdown",
      "metadata": {
        "id": "_gL_zWm3dQWh"
      },
      "source": [
        ""
      ]
    },
    {
      "cell_type": "code",
      "metadata": {
        "id": "FhjCH_FLdRK-"
      },
      "source": [
        "df_factor = df_factor.tz_localize('UTC', level=0)"
      ],
      "execution_count": null,
      "outputs": []
    },
    {
      "cell_type": "code",
      "metadata": {
        "id": "GlMBCTVye5Hq"
      },
      "source": [
        "price_al = price_al.tz_localize('UTC')"
      ],
      "execution_count": null,
      "outputs": []
    },
    {
      "cell_type": "code",
      "metadata": {
        "id": "3rdPerO3fBiY"
      },
      "source": [
        "price1 = price.tz_localize('UTC')"
      ],
      "execution_count": null,
      "outputs": []
    },
    {
      "cell_type": "code",
      "metadata": {
        "colab": {
          "base_uri": "https://localhost:8080/",
          "height": 468
        },
        "id": "jeXYI5Fsh947",
        "outputId": "560a1be2-ac37-4826-8f3c-1df2699e90e7"
      },
      "source": [
        "# compute_forward_returns(df_factor, price1)"
      ],
      "execution_count": null,
      "outputs": [
        {
          "output_type": "error",
          "ename": "ValueError",
          "evalue": "ignored",
          "traceback": [
            "\u001b[0;31m---------------------------------------------------------------------------\u001b[0m",
            "\u001b[0;31mValueError\u001b[0m                                Traceback (most recent call last)",
            "\u001b[0;32m/usr/local/lib/python3.7/dist-packages/pandas/core/arrays/datetimelike.py\u001b[0m in \u001b[0;36m_validate_frequency\u001b[0;34m(cls, index, freq, **kwargs)\u001b[0m\n\u001b[1;32m   1156\u001b[0m             \u001b[0;32mif\u001b[0m \u001b[0;32mnot\u001b[0m \u001b[0mnp\u001b[0m\u001b[0;34m.\u001b[0m\u001b[0marray_equal\u001b[0m\u001b[0;34m(\u001b[0m\u001b[0mindex\u001b[0m\u001b[0;34m.\u001b[0m\u001b[0masi8\u001b[0m\u001b[0;34m,\u001b[0m \u001b[0mon_freq\u001b[0m\u001b[0;34m.\u001b[0m\u001b[0masi8\u001b[0m\u001b[0;34m)\u001b[0m\u001b[0;34m:\u001b[0m\u001b[0;34m\u001b[0m\u001b[0;34m\u001b[0m\u001b[0m\n\u001b[0;32m-> 1157\u001b[0;31m                 \u001b[0;32mraise\u001b[0m \u001b[0mValueError\u001b[0m\u001b[0;34m\u001b[0m\u001b[0;34m\u001b[0m\u001b[0m\n\u001b[0m\u001b[1;32m   1158\u001b[0m         \u001b[0;32mexcept\u001b[0m \u001b[0mValueError\u001b[0m \u001b[0;32mas\u001b[0m \u001b[0me\u001b[0m\u001b[0;34m:\u001b[0m\u001b[0;34m\u001b[0m\u001b[0;34m\u001b[0m\u001b[0m\n",
            "\u001b[0;31mValueError\u001b[0m: ",
            "\nThe above exception was the direct cause of the following exception:\n",
            "\u001b[0;31mValueError\u001b[0m                                Traceback (most recent call last)",
            "\u001b[0;32m<ipython-input-89-a1a735845944>\u001b[0m in \u001b[0;36m<module>\u001b[0;34m()\u001b[0m\n\u001b[0;32m----> 1\u001b[0;31m \u001b[0mcompute_forward_returns\u001b[0m\u001b[0;34m(\u001b[0m\u001b[0mdf_factor\u001b[0m\u001b[0;34m,\u001b[0m \u001b[0mprice1\u001b[0m\u001b[0;34m)\u001b[0m\u001b[0;34m\u001b[0m\u001b[0;34m\u001b[0m\u001b[0m\n\u001b[0m",
            "\u001b[0;32m/usr/local/lib/python3.7/dist-packages/alphalens/utils.py\u001b[0m in \u001b[0;36mcompute_forward_returns\u001b[0;34m(factor, prices, periods, filter_zscore, cumulative_returns)\u001b[0m\n\u001b[1;32m    369\u001b[0m     \u001b[0;31m# now set the columns correctly\u001b[0m\u001b[0;34m\u001b[0m\u001b[0;34m\u001b[0m\u001b[0;34m\u001b[0m\u001b[0m\n\u001b[1;32m    370\u001b[0m     \u001b[0mdf\u001b[0m \u001b[0;34m=\u001b[0m \u001b[0mdf\u001b[0m\u001b[0;34m[\u001b[0m\u001b[0mcolumn_list\u001b[0m\u001b[0;34m]\u001b[0m\u001b[0;34m\u001b[0m\u001b[0;34m\u001b[0m\u001b[0m\n\u001b[0;32m--> 371\u001b[0;31m     \u001b[0mdf\u001b[0m\u001b[0;34m.\u001b[0m\u001b[0mindex\u001b[0m\u001b[0;34m.\u001b[0m\u001b[0mlevels\u001b[0m\u001b[0;34m[\u001b[0m\u001b[0;36m0\u001b[0m\u001b[0;34m]\u001b[0m\u001b[0;34m.\u001b[0m\u001b[0mfreq\u001b[0m \u001b[0;34m=\u001b[0m \u001b[0mfreq\u001b[0m\u001b[0;34m\u001b[0m\u001b[0;34m\u001b[0m\u001b[0m\n\u001b[0m\u001b[1;32m    372\u001b[0m     \u001b[0mdf\u001b[0m\u001b[0;34m.\u001b[0m\u001b[0mindex\u001b[0m\u001b[0;34m.\u001b[0m\u001b[0mset_names\u001b[0m\u001b[0;34m(\u001b[0m\u001b[0;34m[\u001b[0m\u001b[0;34m\"date\"\u001b[0m\u001b[0;34m,\u001b[0m \u001b[0;34m\"asset\"\u001b[0m\u001b[0;34m]\u001b[0m\u001b[0;34m,\u001b[0m \u001b[0minplace\u001b[0m\u001b[0;34m=\u001b[0m\u001b[0;32mTrue\u001b[0m\u001b[0;34m)\u001b[0m\u001b[0;34m\u001b[0m\u001b[0;34m\u001b[0m\u001b[0m\n\u001b[1;32m    373\u001b[0m \u001b[0;34m\u001b[0m\u001b[0m\n",
            "\u001b[0;32m/usr/local/lib/python3.7/dist-packages/pandas/core/indexes/extension.py\u001b[0m in \u001b[0;36mfset\u001b[0;34m(self, value)\u001b[0m\n\u001b[1;32m     62\u001b[0m \u001b[0;34m\u001b[0m\u001b[0m\n\u001b[1;32m     63\u001b[0m             \u001b[0;32mdef\u001b[0m \u001b[0mfset\u001b[0m\u001b[0;34m(\u001b[0m\u001b[0mself\u001b[0m\u001b[0;34m,\u001b[0m \u001b[0mvalue\u001b[0m\u001b[0;34m)\u001b[0m\u001b[0;34m:\u001b[0m\u001b[0;34m\u001b[0m\u001b[0;34m\u001b[0m\u001b[0m\n\u001b[0;32m---> 64\u001b[0;31m                 \u001b[0msetattr\u001b[0m\u001b[0;34m(\u001b[0m\u001b[0mself\u001b[0m\u001b[0;34m.\u001b[0m\u001b[0m_data\u001b[0m\u001b[0;34m,\u001b[0m \u001b[0mname\u001b[0m\u001b[0;34m,\u001b[0m \u001b[0mvalue\u001b[0m\u001b[0;34m)\u001b[0m\u001b[0;34m\u001b[0m\u001b[0;34m\u001b[0m\u001b[0m\n\u001b[0m\u001b[1;32m     65\u001b[0m \u001b[0;34m\u001b[0m\u001b[0m\n\u001b[1;32m     66\u001b[0m             \u001b[0mfget\u001b[0m\u001b[0;34m.\u001b[0m\u001b[0m__name__\u001b[0m \u001b[0;34m=\u001b[0m \u001b[0mname\u001b[0m\u001b[0;34m\u001b[0m\u001b[0;34m\u001b[0m\u001b[0m\n",
            "\u001b[0;32m/usr/local/lib/python3.7/dist-packages/pandas/core/arrays/datetimelike.py\u001b[0m in \u001b[0;36mfreq\u001b[0;34m(self, value)\u001b[0m\n\u001b[1;32m   1091\u001b[0m         \u001b[0;32mif\u001b[0m \u001b[0mvalue\u001b[0m \u001b[0;32mis\u001b[0m \u001b[0;32mnot\u001b[0m \u001b[0;32mNone\u001b[0m\u001b[0;34m:\u001b[0m\u001b[0;34m\u001b[0m\u001b[0;34m\u001b[0m\u001b[0m\n\u001b[1;32m   1092\u001b[0m             \u001b[0mvalue\u001b[0m \u001b[0;34m=\u001b[0m \u001b[0mto_offset\u001b[0m\u001b[0;34m(\u001b[0m\u001b[0mvalue\u001b[0m\u001b[0;34m)\u001b[0m\u001b[0;34m\u001b[0m\u001b[0;34m\u001b[0m\u001b[0m\n\u001b[0;32m-> 1093\u001b[0;31m             \u001b[0mself\u001b[0m\u001b[0;34m.\u001b[0m\u001b[0m_validate_frequency\u001b[0m\u001b[0;34m(\u001b[0m\u001b[0mself\u001b[0m\u001b[0;34m,\u001b[0m \u001b[0mvalue\u001b[0m\u001b[0;34m)\u001b[0m\u001b[0;34m\u001b[0m\u001b[0;34m\u001b[0m\u001b[0m\n\u001b[0m\u001b[1;32m   1094\u001b[0m \u001b[0;34m\u001b[0m\u001b[0m\n\u001b[1;32m   1095\u001b[0m         \u001b[0mself\u001b[0m\u001b[0;34m.\u001b[0m\u001b[0m_freq\u001b[0m \u001b[0;34m=\u001b[0m \u001b[0mvalue\u001b[0m\u001b[0;34m\u001b[0m\u001b[0;34m\u001b[0m\u001b[0m\n",
            "\u001b[0;32m/usr/local/lib/python3.7/dist-packages/pandas/core/arrays/datetimelike.py\u001b[0m in \u001b[0;36m_validate_frequency\u001b[0;34m(cls, index, freq, **kwargs)\u001b[0m\n\u001b[1;32m   1169\u001b[0m                 \u001b[0;34mf\"Inferred frequency {inferred} from passed values \"\u001b[0m\u001b[0;34m\u001b[0m\u001b[0;34m\u001b[0m\u001b[0m\n\u001b[1;32m   1170\u001b[0m                 \u001b[0;34mf\"does not conform to passed frequency {freq.freqstr}\"\u001b[0m\u001b[0;34m\u001b[0m\u001b[0;34m\u001b[0m\u001b[0m\n\u001b[0;32m-> 1171\u001b[0;31m             ) from e\n\u001b[0m\u001b[1;32m   1172\u001b[0m \u001b[0;34m\u001b[0m\u001b[0m\n\u001b[1;32m   1173\u001b[0m     \u001b[0;31m# monotonicity/uniqueness properties are called via frequencies.infer_freq,\u001b[0m\u001b[0;34m\u001b[0m\u001b[0;34m\u001b[0m\u001b[0;34m\u001b[0m\u001b[0m\n",
            "\u001b[0;31mValueError\u001b[0m: Inferred frequency None from passed values does not conform to passed frequency C"
          ]
        }
      ]
    },
    {
      "cell_type": "code",
      "metadata": {
        "colab": {
          "base_uri": "https://localhost:8080/"
        },
        "id": "L_Tu4yGNjsEu",
        "outputId": "e230d6a8-b935-4367-faac-d83c05c28d30"
      },
      "source": [
        "df_factor.index"
      ],
      "execution_count": null,
      "outputs": [
        {
          "output_type": "execute_result",
          "data": {
            "text/plain": [
              "MultiIndex([('2011-01-10 15:30:00', '000390'),\n",
              "            ('2011-01-10 15:30:00', '001140'),\n",
              "            ('2011-01-10 15:30:00', '004830'),\n",
              "            ('2011-01-10 15:30:00', '043090'),\n",
              "            ('2011-01-10 15:30:00', '043910'),\n",
              "            ('2011-01-10 15:30:00', '054340'),\n",
              "            ('2011-01-10 15:30:00', '057050'),\n",
              "            ('2011-01-10 15:30:00', '071530'),\n",
              "            ('2011-01-10 15:30:00', '099320'),\n",
              "            ('2011-01-11 15:30:00', '001515'),\n",
              "            ...\n",
              "            ('2021-11-29 15:30:00', '169330'),\n",
              "            ('2021-11-29 15:30:00', '190650'),\n",
              "            ('2021-11-29 15:30:00', '214680'),\n",
              "            ('2021-11-29 15:30:00', '255440'),\n",
              "            ('2021-11-29 15:30:00', '281740'),\n",
              "            ('2021-11-30 15:30:00', '021080'),\n",
              "            ('2021-11-30 15:30:00', '041960'),\n",
              "            ('2021-11-30 15:30:00', '063760'),\n",
              "            ('2021-11-30 15:30:00', '304840'),\n",
              "            ('2021-11-30 15:30:00', '307180')],\n",
              "           names=['datetime_to_buy', 'code'], length=105726)"
            ]
          },
          "metadata": {},
          "execution_count": 30
        }
      ]
    },
    {
      "cell_type": "code",
      "metadata": {
        "colab": {
          "base_uri": "https://localhost:8080/",
          "height": 589
        },
        "id": "5GcaYggFwQmx",
        "outputId": "e2f7c48a-41bf-4142-b3a3-384cda3dc0e1"
      },
      "source": [
        "factor_data = get_clean_factor_and_forward_returns(\n",
        "    df_factor,\n",
        "    price,\n",
        "    quantiles=None,\n",
        "    periods = [2,4,6] , # 0 은 그 시간, 1: 그다음 아침 시가\n",
        "    max_loss = 0.7,\n",
        "    bins = 1\n",
        ")"
      ],
      "execution_count": null,
      "outputs": [
        {
          "output_type": "error",
          "ename": "ValueError",
          "evalue": "ignored",
          "traceback": [
            "\u001b[0;31m---------------------------------------------------------------------------\u001b[0m",
            "\u001b[0;31mValueError\u001b[0m                                Traceback (most recent call last)",
            "\u001b[0;32m/usr/local/lib/python3.7/dist-packages/pandas/core/arrays/datetimelike.py\u001b[0m in \u001b[0;36m_validate_frequency\u001b[0;34m(cls, index, freq, **kwargs)\u001b[0m\n\u001b[1;32m   1156\u001b[0m             \u001b[0;32mif\u001b[0m \u001b[0;32mnot\u001b[0m \u001b[0mnp\u001b[0m\u001b[0;34m.\u001b[0m\u001b[0marray_equal\u001b[0m\u001b[0;34m(\u001b[0m\u001b[0mindex\u001b[0m\u001b[0;34m.\u001b[0m\u001b[0masi8\u001b[0m\u001b[0;34m,\u001b[0m \u001b[0mon_freq\u001b[0m\u001b[0;34m.\u001b[0m\u001b[0masi8\u001b[0m\u001b[0;34m)\u001b[0m\u001b[0;34m:\u001b[0m\u001b[0;34m\u001b[0m\u001b[0;34m\u001b[0m\u001b[0m\n\u001b[0;32m-> 1157\u001b[0;31m                 \u001b[0;32mraise\u001b[0m \u001b[0mValueError\u001b[0m\u001b[0;34m\u001b[0m\u001b[0;34m\u001b[0m\u001b[0m\n\u001b[0m\u001b[1;32m   1158\u001b[0m         \u001b[0;32mexcept\u001b[0m \u001b[0mValueError\u001b[0m \u001b[0;32mas\u001b[0m \u001b[0me\u001b[0m\u001b[0;34m:\u001b[0m\u001b[0;34m\u001b[0m\u001b[0;34m\u001b[0m\u001b[0m\n",
            "\u001b[0;31mValueError\u001b[0m: ",
            "\nThe above exception was the direct cause of the following exception:\n",
            "\u001b[0;31mValueError\u001b[0m                                Traceback (most recent call last)",
            "\u001b[0;32m<ipython-input-85-eff918ace3ef>\u001b[0m in \u001b[0;36m<module>\u001b[0;34m()\u001b[0m\n\u001b[1;32m      5\u001b[0m     \u001b[0mperiods\u001b[0m \u001b[0;34m=\u001b[0m \u001b[0;34m[\u001b[0m\u001b[0;36m2\u001b[0m\u001b[0;34m,\u001b[0m\u001b[0;36m4\u001b[0m\u001b[0;34m,\u001b[0m\u001b[0;36m6\u001b[0m\u001b[0;34m]\u001b[0m \u001b[0;34m,\u001b[0m \u001b[0;31m# 0 은 그 시간, 1: 그다음 아침 시가\u001b[0m\u001b[0;34m\u001b[0m\u001b[0;34m\u001b[0m\u001b[0m\n\u001b[1;32m      6\u001b[0m     \u001b[0mmax_loss\u001b[0m \u001b[0;34m=\u001b[0m \u001b[0;36m0.7\u001b[0m\u001b[0;34m,\u001b[0m\u001b[0;34m\u001b[0m\u001b[0;34m\u001b[0m\u001b[0m\n\u001b[0;32m----> 7\u001b[0;31m     \u001b[0mbins\u001b[0m \u001b[0;34m=\u001b[0m \u001b[0;36m1\u001b[0m\u001b[0;34m\u001b[0m\u001b[0;34m\u001b[0m\u001b[0m\n\u001b[0m\u001b[1;32m      8\u001b[0m )\n",
            "\u001b[0;32m/usr/local/lib/python3.7/dist-packages/alphalens/utils.py\u001b[0m in \u001b[0;36mget_clean_factor_and_forward_returns\u001b[0;34m(factor, prices, groupby, binning_by_group, quantiles, bins, periods, filter_zscore, groupby_labels, max_loss, zero_aware, cumulative_returns)\u001b[0m\n\u001b[1;32m    868\u001b[0m \u001b[0;34m\u001b[0m\u001b[0m\n\u001b[1;32m    869\u001b[0m     forward_returns = compute_forward_returns(\n\u001b[0;32m--> 870\u001b[0;31m         \u001b[0mfactor\u001b[0m\u001b[0;34m,\u001b[0m \u001b[0mprices\u001b[0m\u001b[0;34m,\u001b[0m \u001b[0mperiods\u001b[0m\u001b[0;34m,\u001b[0m \u001b[0mfilter_zscore\u001b[0m\u001b[0;34m,\u001b[0m \u001b[0mcumulative_returns\u001b[0m\u001b[0;34m\u001b[0m\u001b[0;34m\u001b[0m\u001b[0m\n\u001b[0m\u001b[1;32m    871\u001b[0m     )\n\u001b[1;32m    872\u001b[0m \u001b[0;34m\u001b[0m\u001b[0m\n",
            "\u001b[0;32m/usr/local/lib/python3.7/dist-packages/alphalens/utils.py\u001b[0m in \u001b[0;36mcompute_forward_returns\u001b[0;34m(factor, prices, periods, filter_zscore, cumulative_returns)\u001b[0m\n\u001b[1;32m    369\u001b[0m     \u001b[0;31m# now set the columns correctly\u001b[0m\u001b[0;34m\u001b[0m\u001b[0;34m\u001b[0m\u001b[0;34m\u001b[0m\u001b[0m\n\u001b[1;32m    370\u001b[0m     \u001b[0mdf\u001b[0m \u001b[0;34m=\u001b[0m \u001b[0mdf\u001b[0m\u001b[0;34m[\u001b[0m\u001b[0mcolumn_list\u001b[0m\u001b[0;34m]\u001b[0m\u001b[0;34m\u001b[0m\u001b[0;34m\u001b[0m\u001b[0m\n\u001b[0;32m--> 371\u001b[0;31m     \u001b[0mdf\u001b[0m\u001b[0;34m.\u001b[0m\u001b[0mindex\u001b[0m\u001b[0;34m.\u001b[0m\u001b[0mlevels\u001b[0m\u001b[0;34m[\u001b[0m\u001b[0;36m0\u001b[0m\u001b[0;34m]\u001b[0m\u001b[0;34m.\u001b[0m\u001b[0mfreq\u001b[0m \u001b[0;34m=\u001b[0m \u001b[0mfreq\u001b[0m\u001b[0;34m\u001b[0m\u001b[0;34m\u001b[0m\u001b[0m\n\u001b[0m\u001b[1;32m    372\u001b[0m     \u001b[0mdf\u001b[0m\u001b[0;34m.\u001b[0m\u001b[0mindex\u001b[0m\u001b[0;34m.\u001b[0m\u001b[0mset_names\u001b[0m\u001b[0;34m(\u001b[0m\u001b[0;34m[\u001b[0m\u001b[0;34m\"date\"\u001b[0m\u001b[0;34m,\u001b[0m \u001b[0;34m\"asset\"\u001b[0m\u001b[0;34m]\u001b[0m\u001b[0;34m,\u001b[0m \u001b[0minplace\u001b[0m\u001b[0;34m=\u001b[0m\u001b[0;32mTrue\u001b[0m\u001b[0;34m)\u001b[0m\u001b[0;34m\u001b[0m\u001b[0;34m\u001b[0m\u001b[0m\n\u001b[1;32m    373\u001b[0m \u001b[0;34m\u001b[0m\u001b[0m\n",
            "\u001b[0;32m/usr/local/lib/python3.7/dist-packages/pandas/core/indexes/extension.py\u001b[0m in \u001b[0;36mfset\u001b[0;34m(self, value)\u001b[0m\n\u001b[1;32m     62\u001b[0m \u001b[0;34m\u001b[0m\u001b[0m\n\u001b[1;32m     63\u001b[0m             \u001b[0;32mdef\u001b[0m \u001b[0mfset\u001b[0m\u001b[0;34m(\u001b[0m\u001b[0mself\u001b[0m\u001b[0;34m,\u001b[0m \u001b[0mvalue\u001b[0m\u001b[0;34m)\u001b[0m\u001b[0;34m:\u001b[0m\u001b[0;34m\u001b[0m\u001b[0;34m\u001b[0m\u001b[0m\n\u001b[0;32m---> 64\u001b[0;31m                 \u001b[0msetattr\u001b[0m\u001b[0;34m(\u001b[0m\u001b[0mself\u001b[0m\u001b[0;34m.\u001b[0m\u001b[0m_data\u001b[0m\u001b[0;34m,\u001b[0m \u001b[0mname\u001b[0m\u001b[0;34m,\u001b[0m \u001b[0mvalue\u001b[0m\u001b[0;34m)\u001b[0m\u001b[0;34m\u001b[0m\u001b[0;34m\u001b[0m\u001b[0m\n\u001b[0m\u001b[1;32m     65\u001b[0m \u001b[0;34m\u001b[0m\u001b[0m\n\u001b[1;32m     66\u001b[0m             \u001b[0mfget\u001b[0m\u001b[0;34m.\u001b[0m\u001b[0m__name__\u001b[0m \u001b[0;34m=\u001b[0m \u001b[0mname\u001b[0m\u001b[0;34m\u001b[0m\u001b[0;34m\u001b[0m\u001b[0m\n",
            "\u001b[0;32m/usr/local/lib/python3.7/dist-packages/pandas/core/arrays/datetimelike.py\u001b[0m in \u001b[0;36mfreq\u001b[0;34m(self, value)\u001b[0m\n\u001b[1;32m   1091\u001b[0m         \u001b[0;32mif\u001b[0m \u001b[0mvalue\u001b[0m \u001b[0;32mis\u001b[0m \u001b[0;32mnot\u001b[0m \u001b[0;32mNone\u001b[0m\u001b[0;34m:\u001b[0m\u001b[0;34m\u001b[0m\u001b[0;34m\u001b[0m\u001b[0m\n\u001b[1;32m   1092\u001b[0m             \u001b[0mvalue\u001b[0m \u001b[0;34m=\u001b[0m \u001b[0mto_offset\u001b[0m\u001b[0;34m(\u001b[0m\u001b[0mvalue\u001b[0m\u001b[0;34m)\u001b[0m\u001b[0;34m\u001b[0m\u001b[0;34m\u001b[0m\u001b[0m\n\u001b[0;32m-> 1093\u001b[0;31m             \u001b[0mself\u001b[0m\u001b[0;34m.\u001b[0m\u001b[0m_validate_frequency\u001b[0m\u001b[0;34m(\u001b[0m\u001b[0mself\u001b[0m\u001b[0;34m,\u001b[0m \u001b[0mvalue\u001b[0m\u001b[0;34m)\u001b[0m\u001b[0;34m\u001b[0m\u001b[0;34m\u001b[0m\u001b[0m\n\u001b[0m\u001b[1;32m   1094\u001b[0m \u001b[0;34m\u001b[0m\u001b[0m\n\u001b[1;32m   1095\u001b[0m         \u001b[0mself\u001b[0m\u001b[0;34m.\u001b[0m\u001b[0m_freq\u001b[0m \u001b[0;34m=\u001b[0m \u001b[0mvalue\u001b[0m\u001b[0;34m\u001b[0m\u001b[0;34m\u001b[0m\u001b[0m\n",
            "\u001b[0;32m/usr/local/lib/python3.7/dist-packages/pandas/core/arrays/datetimelike.py\u001b[0m in \u001b[0;36m_validate_frequency\u001b[0;34m(cls, index, freq, **kwargs)\u001b[0m\n\u001b[1;32m   1169\u001b[0m                 \u001b[0;34mf\"Inferred frequency {inferred} from passed values \"\u001b[0m\u001b[0;34m\u001b[0m\u001b[0;34m\u001b[0m\u001b[0m\n\u001b[1;32m   1170\u001b[0m                 \u001b[0;34mf\"does not conform to passed frequency {freq.freqstr}\"\u001b[0m\u001b[0;34m\u001b[0m\u001b[0;34m\u001b[0m\u001b[0m\n\u001b[0;32m-> 1171\u001b[0;31m             ) from e\n\u001b[0m\u001b[1;32m   1172\u001b[0m \u001b[0;34m\u001b[0m\u001b[0m\n\u001b[1;32m   1173\u001b[0m     \u001b[0;31m# monotonicity/uniqueness properties are called via frequencies.infer_freq,\u001b[0m\u001b[0;34m\u001b[0m\u001b[0;34m\u001b[0m\u001b[0;34m\u001b[0m\u001b[0m\n",
            "\u001b[0;31mValueError\u001b[0m: Inferred frequency None from passed values does not conform to passed frequency C"
          ]
        }
      ]
    },
    {
      "cell_type": "code",
      "metadata": {
        "id": "i_kxXjWOEuUL"
      },
      "source": [
        "out = df.groupby(\"foo\").pivot(pivot_column=\"bar\", values_column=\"N\").first()\n",
        "a = df_price.set_index('Date').loc[:,['code', 'Open']]\n",
        "a.pivot_table(values='Open', columns='code', index=a.index)"
      ],
      "execution_count": null,
      "outputs": []
    },
    {
      "cell_type": "code",
      "metadata": {
        "id": "4tbp4PecOP01"
      },
      "source": [
        "df_pl = pl.from_pandas(df_price.reset_index())"
      ],
      "execution_count": null,
      "outputs": []
    },
    {
      "cell_type": "code",
      "metadata": {
        "id": "3Cm8akHIQXdn"
      },
      "source": [
        "# df_pl.groupby('Date').pivot(pivot_column='code', values_column='Open').first()"
      ],
      "execution_count": null,
      "outputs": []
    },
    {
      "cell_type": "code",
      "metadata": {
        "colab": {
          "base_uri": "https://localhost:8080/"
        },
        "id": "OZkWqY2eiQSu",
        "outputId": "1ff26057-1a3c-43c3-9be0-a935e2a3c35b"
      },
      "source": [
        "!pip install polars"
      ],
      "execution_count": null,
      "outputs": [
        {
          "output_type": "stream",
          "name": "stdout",
          "text": [
            "Collecting polars\n",
            "  Downloading polars-0.10.25-cp36-abi3-manylinux_2_12_x86_64.manylinux2010_x86_64.whl (9.9 MB)\n",
            "\u001b[K     |████████████████████████████████| 9.9 MB 6.4 MB/s \n",
            "\u001b[?25hRequirement already satisfied: numpy in /usr/local/lib/python3.7/dist-packages (from polars) (1.19.5)\n",
            "Installing collected packages: polars\n",
            "Successfully installed polars-0.10.25\n"
          ]
        }
      ]
    },
    {
      "cell_type": "code",
      "metadata": {
        "id": "jP2dhBRcjIei"
      },
      "source": [
        "import polars as pl"
      ],
      "execution_count": null,
      "outputs": []
    },
    {
      "cell_type": "code",
      "metadata": {
        "id": "O93TOeKUjKLj"
      },
      "source": [
        "data_pl = pl.from_pandas(df_price)"
      ],
      "execution_count": null,
      "outputs": []
    },
    {
      "cell_type": "code",
      "metadata": {
        "colab": {
          "base_uri": "https://localhost:8080/",
          "height": 238
        },
        "id": "zRa67Gz9qsLJ",
        "outputId": "75d9a1eb-9ba0-4ed1-876b-e9321c2998fe"
      },
      "source": [
        "data_pl.head()"
      ],
      "execution_count": null,
      "outputs": [
        {
          "output_type": "execute_result",
          "data": {
            "text/html": [
              "<div>\n",
              "<style scoped>\n",
              "    .dataframe tbody tr th:only-of-type {\n",
              "        vertical-align: middle;\n",
              "    }\n",
              "\n",
              "    .dataframe tbody tr th {\n",
              "        vertical-align: top;\n",
              "    }\n",
              "\n",
              "    .dataframe thead th {\n",
              "        text-align: right;\n",
              "    }\n",
              "</style>\n",
              "<table border=\"1 \"class=\"dataframe \">\n",
              "<thead>\n",
              "<tr>\n",
              "<th>\n",
              "code\n",
              "</th>\n",
              "<th>\n",
              "Date\n",
              "</th>\n",
              "<th>\n",
              "Open\n",
              "</th>\n",
              "<th>\n",
              "High\n",
              "</th>\n",
              "<th>\n",
              "Low\n",
              "</th>\n",
              "<th>\n",
              "Close\n",
              "</th>\n",
              "<th>\n",
              "Volume\n",
              "</th>\n",
              "<th>\n",
              "Change\n",
              "</th>\n",
              "</tr>\n",
              "<tr>\n",
              "<td>\n",
              "str\n",
              "</td>\n",
              "<td>\n",
              "datetime\n",
              "</td>\n",
              "<td>\n",
              "i64\n",
              "</td>\n",
              "<td>\n",
              "i64\n",
              "</td>\n",
              "<td>\n",
              "i64\n",
              "</td>\n",
              "<td>\n",
              "i64\n",
              "</td>\n",
              "<td>\n",
              "i64\n",
              "</td>\n",
              "<td>\n",
              "f64\n",
              "</td>\n",
              "</tr>\n",
              "</thead>\n",
              "<tbody>\n",
              "<tr>\n",
              "<td>\n",
              "\"098120\"\n",
              "</td>\n",
              "<td>\n",
              "2014-09-23 00:00:00\n",
              "</td>\n",
              "<td>\n",
              "10600\n",
              "</td>\n",
              "<td>\n",
              "10850\n",
              "</td>\n",
              "<td>\n",
              "10100\n",
              "</td>\n",
              "<td>\n",
              "10400\n",
              "</td>\n",
              "<td>\n",
              "106419\n",
              "</td>\n",
              "<td>\n",
              "-2.3474178403755874e-2\n",
              "</td>\n",
              "</tr>\n",
              "<tr>\n",
              "<td>\n",
              "\"138920\"\n",
              "</td>\n",
              "<td>\n",
              "2014-09-23 00:00:00\n",
              "</td>\n",
              "<td>\n",
              "10965\n",
              "</td>\n",
              "<td>\n",
              "11015\n",
              "</td>\n",
              "<td>\n",
              "10870\n",
              "</td>\n",
              "<td>\n",
              "11010\n",
              "</td>\n",
              "<td>\n",
              "1367\n",
              "</td>\n",
              "<td>\n",
              "-2.7173913043477826e-3\n",
              "</td>\n",
              "</tr>\n",
              "<tr>\n",
              "<td>\n",
              "\"078930\"\n",
              "</td>\n",
              "<td>\n",
              "2014-09-23 00:00:00\n",
              "</td>\n",
              "<td>\n",
              "41600\n",
              "</td>\n",
              "<td>\n",
              "42100\n",
              "</td>\n",
              "<td>\n",
              "41250\n",
              "</td>\n",
              "<td>\n",
              "41700\n",
              "</td>\n",
              "<td>\n",
              "291818\n",
              "</td>\n",
              "<td>\n",
              "-5.959475566150174e-3\n",
              "</td>\n",
              "</tr>\n",
              "<tr>\n",
              "<td>\n",
              "\"079160\"\n",
              "</td>\n",
              "<td>\n",
              "2014-09-23 00:00:00\n",
              "</td>\n",
              "<td>\n",
              "48982\n",
              "</td>\n",
              "<td>\n",
              "48982\n",
              "</td>\n",
              "<td>\n",
              "47893\n",
              "</td>\n",
              "<td>\n",
              "48257\n",
              "</td>\n",
              "<td>\n",
              "139946\n",
              "</td>\n",
              "<td>\n",
              "-1.2987809866644828e-2\n",
              "</td>\n",
              "</tr>\n",
              "<tr>\n",
              "<td>\n",
              "\"042500\"\n",
              "</td>\n",
              "<td>\n",
              "2014-09-23 00:00:00\n",
              "</td>\n",
              "<td>\n",
              "4980\n",
              "</td>\n",
              "<td>\n",
              "5010\n",
              "</td>\n",
              "<td>\n",
              "4800\n",
              "</td>\n",
              "<td>\n",
              "4925\n",
              "</td>\n",
              "<td>\n",
              "834746\n",
              "</td>\n",
              "<td>\n",
              "-1.1044176706827336e-2\n",
              "</td>\n",
              "</tr>\n",
              "</tbody>\n",
              "</table>\n",
              "</div>"
            ],
            "text/plain": [
              "shape: (5, 8)\n",
              "┌────────┬─────────────────────┬───────┬───────┬───────┬───────┬────────┬────────────────────────┐\n",
              "│ code   ┆ Date                ┆ Open  ┆ High  ┆ Low   ┆ Close ┆ Volume ┆ Change                 │\n",
              "│ ---    ┆ ---                 ┆ ---   ┆ ---   ┆ ---   ┆ ---   ┆ ---    ┆ ---                    │\n",
              "│ str    ┆ datetime            ┆ i64   ┆ i64   ┆ i64   ┆ i64   ┆ i64    ┆ f64                    │\n",
              "╞════════╪═════════════════════╪═══════╪═══════╪═══════╪═══════╪════════╪════════════════════════╡\n",
              "│ 098120 ┆ 2014-09-23 00:00:00 ┆ 10600 ┆ 10850 ┆ 10100 ┆ 10400 ┆ 106419 ┆ -2.3474178403755874e-2 │\n",
              "├╌╌╌╌╌╌╌╌┼╌╌╌╌╌╌╌╌╌╌╌╌╌╌╌╌╌╌╌╌╌┼╌╌╌╌╌╌╌┼╌╌╌╌╌╌╌┼╌╌╌╌╌╌╌┼╌╌╌╌╌╌╌┼╌╌╌╌╌╌╌╌┼╌╌╌╌╌╌╌╌╌╌╌╌╌╌╌╌╌╌╌╌╌╌╌╌┤\n",
              "│ 138920 ┆ 2014-09-23 00:00:00 ┆ 10965 ┆ 11015 ┆ 10870 ┆ 11010 ┆ 1367   ┆ -2.7173913043477826e-3 │\n",
              "├╌╌╌╌╌╌╌╌┼╌╌╌╌╌╌╌╌╌╌╌╌╌╌╌╌╌╌╌╌╌┼╌╌╌╌╌╌╌┼╌╌╌╌╌╌╌┼╌╌╌╌╌╌╌┼╌╌╌╌╌╌╌┼╌╌╌╌╌╌╌╌┼╌╌╌╌╌╌╌╌╌╌╌╌╌╌╌╌╌╌╌╌╌╌╌╌┤\n",
              "│ 078930 ┆ 2014-09-23 00:00:00 ┆ 41600 ┆ 42100 ┆ 41250 ┆ 41700 ┆ 291818 ┆ -5.959475566150174e-3  │\n",
              "├╌╌╌╌╌╌╌╌┼╌╌╌╌╌╌╌╌╌╌╌╌╌╌╌╌╌╌╌╌╌┼╌╌╌╌╌╌╌┼╌╌╌╌╌╌╌┼╌╌╌╌╌╌╌┼╌╌╌╌╌╌╌┼╌╌╌╌╌╌╌╌┼╌╌╌╌╌╌╌╌╌╌╌╌╌╌╌╌╌╌╌╌╌╌╌╌┤\n",
              "│ 079160 ┆ 2014-09-23 00:00:00 ┆ 48982 ┆ 48982 ┆ 47893 ┆ 48257 ┆ 139946 ┆ -1.2987809866644828e-2 │\n",
              "├╌╌╌╌╌╌╌╌┼╌╌╌╌╌╌╌╌╌╌╌╌╌╌╌╌╌╌╌╌╌┼╌╌╌╌╌╌╌┼╌╌╌╌╌╌╌┼╌╌╌╌╌╌╌┼╌╌╌╌╌╌╌┼╌╌╌╌╌╌╌╌┼╌╌╌╌╌╌╌╌╌╌╌╌╌╌╌╌╌╌╌╌╌╌╌╌┤\n",
              "│ 042500 ┆ 2014-09-23 00:00:00 ┆ 4980  ┆ 5010  ┆ 4800  ┆ 4925  ┆ 834746 ┆ -1.1044176706827336e-2 │\n",
              "└────────┴─────────────────────┴───────┴───────┴───────┴───────┴────────┴────────────────────────┘"
            ]
          },
          "metadata": {},
          "execution_count": 30
        }
      ]
    },
    {
      "cell_type": "code",
      "metadata": {
        "id": "jV6jyuZkiR7f"
      },
      "source": [
        "data_pl.groupby('code')['Close']."
      ],
      "execution_count": null,
      "outputs": []
    },
    {
      "cell_type": "markdown",
      "metadata": {
        "id": "qRdJJ6rSgTac"
      },
      "source": [
        "# XXXXXXXXXXXXX TESTING\n"
      ]
    },
    {
      "cell_type": "code",
      "metadata": {
        "id": "EhJyfvGXgV6Y"
      },
      "source": [
        "__df = (df\n",
        " .drop_duplicates(['code','date'])    # must to do  한 종목이 여러 소스종목과 동일한 경우가 있음 \n",
        " .melt(id_vars=cols_1, value_vars=cols_d_op)\n",
        " .sort_values(['code','variable']\n",
        " ))"
      ],
      "execution_count": null,
      "outputs": []
    },
    {
      "cell_type": "code",
      "metadata": {
        "colab": {
          "base_uri": "https://localhost:8080/"
        },
        "id": "OIkhvUiSgh4-",
        "outputId": "f3f095a3-6e10-40e7-c881-db0658fd9fc4"
      },
      "source": [
        "__df.loc[0,'value']"
      ],
      "execution_count": null,
      "outputs": [
        {
          "output_type": "execute_result",
          "data": {
            "text/plain": [
              "Timestamp('2011-01-10 09:00:00')"
            ]
          },
          "metadata": {},
          "execution_count": 61
        }
      ]
    },
    {
      "cell_type": "code",
      "metadata": {
        "colab": {
          "base_uri": "https://localhost:8080/"
        },
        "id": "1UJ-zQwHgj-y",
        "outputId": "6196d610-5ea3-4615-fb02-afff30ac51ee"
      },
      "source": [
        "price1.loc[0,'Date']"
      ],
      "execution_count": null,
      "outputs": [
        {
          "output_type": "execute_result",
          "data": {
            "text/plain": [
              "Timestamp('2011-01-03 09:00:00')"
            ]
          },
          "metadata": {},
          "execution_count": 63
        }
      ]
    },
    {
      "cell_type": "code",
      "metadata": {
        "id": "qswspVtPgvPt"
      },
      "source": [
        "df_ = (df\n",
        " .drop_duplicates(['code','date'])    # must to do  한 종목이 여러 소스종목과 동일한 경우가 있음 \n",
        " .melt(id_vars=cols_1, value_vars=cols_d_op)\n",
        " .sort_values(['code','variable'])\n",
        " .merge(price1, \n",
        "        left_on=['code', 'value'],\n",
        "        right_on=['code','Date'], \n",
        "        how='left')\n",
        " .sort_values(['code','date','value'])\n",
        " )"
      ],
      "execution_count": null,
      "outputs": []
    },
    {
      "cell_type": "code",
      "metadata": {
        "colab": {
          "base_uri": "https://localhost:8080/",
          "height": 424
        },
        "id": "fQp4ng-YhJiK",
        "outputId": "a3dffd86-f81a-4174-8d89-8c24a4cec414"
      },
      "source": [
        "df_"
      ],
      "execution_count": null,
      "outputs": [
        {
          "output_type": "execute_result",
          "data": {
            "text/html": [
              "<div>\n",
              "<style scoped>\n",
              "    .dataframe tbody tr th:only-of-type {\n",
              "        vertical-align: middle;\n",
              "    }\n",
              "\n",
              "    .dataframe tbody tr th {\n",
              "        vertical-align: top;\n",
              "    }\n",
              "\n",
              "    .dataframe thead th {\n",
              "        text-align: right;\n",
              "    }\n",
              "</style>\n",
              "<table border=\"1\" class=\"dataframe\">\n",
              "  <thead>\n",
              "    <tr style=\"text-align: right;\">\n",
              "      <th></th>\n",
              "      <th>date</th>\n",
              "      <th>code</th>\n",
              "      <th>source_code</th>\n",
              "      <th>source_date</th>\n",
              "      <th>variable</th>\n",
              "      <th>value</th>\n",
              "      <th>Date</th>\n",
              "      <th>adj_p</th>\n",
              "    </tr>\n",
              "  </thead>\n",
              "  <tbody>\n",
              "    <tr>\n",
              "      <th>0</th>\n",
              "      <td>2011-03-15</td>\n",
              "      <td>000020</td>\n",
              "      <td>317240</td>\n",
              "      <td>2021-12-01</td>\n",
              "      <td>d0_1</td>\n",
              "      <td>2011-03-15 09:00:00</td>\n",
              "      <td>2011-03-15 09:00:00</td>\n",
              "      <td>4290.0</td>\n",
              "    </tr>\n",
              "    <tr>\n",
              "      <th>34</th>\n",
              "      <td>2011-03-15</td>\n",
              "      <td>000020</td>\n",
              "      <td>317240</td>\n",
              "      <td>2021-12-01</td>\n",
              "      <td>d0_2</td>\n",
              "      <td>2011-03-15 15:30:00</td>\n",
              "      <td>2011-03-15 15:30:00</td>\n",
              "      <td>4070.0</td>\n",
              "    </tr>\n",
              "    <tr>\n",
              "      <th>748</th>\n",
              "      <td>2011-03-15</td>\n",
              "      <td>000020</td>\n",
              "      <td>317240</td>\n",
              "      <td>2021-12-01</td>\n",
              "      <td>d1_1</td>\n",
              "      <td>2011-03-16 09:00:00</td>\n",
              "      <td>2011-03-16 09:00:00</td>\n",
              "      <td>4040.0</td>\n",
              "    </tr>\n",
              "    <tr>\n",
              "      <th>782</th>\n",
              "      <td>2011-03-15</td>\n",
              "      <td>000020</td>\n",
              "      <td>317240</td>\n",
              "      <td>2021-12-01</td>\n",
              "      <td>d1_2</td>\n",
              "      <td>2011-03-16 15:30:00</td>\n",
              "      <td>2011-03-16 15:30:00</td>\n",
              "      <td>4140.0</td>\n",
              "    </tr>\n",
              "    <tr>\n",
              "      <th>816</th>\n",
              "      <td>2011-03-15</td>\n",
              "      <td>000020</td>\n",
              "      <td>317240</td>\n",
              "      <td>2021-12-01</td>\n",
              "      <td>d2_1</td>\n",
              "      <td>2011-03-17 09:00:00</td>\n",
              "      <td>2011-03-17 09:00:00</td>\n",
              "      <td>4065.0</td>\n",
              "    </tr>\n",
              "    <tr>\n",
              "      <th>...</th>\n",
              "      <td>...</td>\n",
              "      <td>...</td>\n",
              "      <td>...</td>\n",
              "      <td>...</td>\n",
              "      <td>...</td>\n",
              "      <td>...</td>\n",
              "      <td>...</td>\n",
              "      <td>...</td>\n",
              "    </tr>\n",
              "    <tr>\n",
              "      <th>2357835</th>\n",
              "      <td>2021-06-10</td>\n",
              "      <td>950220</td>\n",
              "      <td>023460</td>\n",
              "      <td>2021-12-01</td>\n",
              "      <td>d17_2</td>\n",
              "      <td>2021-07-05 15:30:00</td>\n",
              "      <td>2021-07-05 15:30:00</td>\n",
              "      <td>11750.0</td>\n",
              "    </tr>\n",
              "    <tr>\n",
              "      <th>2357837</th>\n",
              "      <td>2021-06-10</td>\n",
              "      <td>950220</td>\n",
              "      <td>023460</td>\n",
              "      <td>2021-12-01</td>\n",
              "      <td>d18_1</td>\n",
              "      <td>2021-07-06 09:00:00</td>\n",
              "      <td>2021-07-06 09:00:00</td>\n",
              "      <td>11850.0</td>\n",
              "    </tr>\n",
              "    <tr>\n",
              "      <th>2357839</th>\n",
              "      <td>2021-06-10</td>\n",
              "      <td>950220</td>\n",
              "      <td>023460</td>\n",
              "      <td>2021-12-01</td>\n",
              "      <td>d18_2</td>\n",
              "      <td>2021-07-06 15:30:00</td>\n",
              "      <td>2021-07-06 15:30:00</td>\n",
              "      <td>11700.0</td>\n",
              "    </tr>\n",
              "    <tr>\n",
              "      <th>2357841</th>\n",
              "      <td>2021-06-10</td>\n",
              "      <td>950220</td>\n",
              "      <td>023460</td>\n",
              "      <td>2021-12-01</td>\n",
              "      <td>d19_1</td>\n",
              "      <td>2021-07-07 09:00:00</td>\n",
              "      <td>2021-07-07 09:00:00</td>\n",
              "      <td>11650.0</td>\n",
              "    </tr>\n",
              "    <tr>\n",
              "      <th>2357843</th>\n",
              "      <td>2021-06-10</td>\n",
              "      <td>950220</td>\n",
              "      <td>023460</td>\n",
              "      <td>2021-12-01</td>\n",
              "      <td>d19_2</td>\n",
              "      <td>2021-07-07 15:30:00</td>\n",
              "      <td>2021-07-07 15:30:00</td>\n",
              "      <td>11150.0</td>\n",
              "    </tr>\n",
              "  </tbody>\n",
              "</table>\n",
              "<p>2357880 rows × 8 columns</p>\n",
              "</div>"
            ],
            "text/plain": [
              "              date    code  ...                Date    adj_p\n",
              "0       2011-03-15  000020  ... 2011-03-15 09:00:00   4290.0\n",
              "34      2011-03-15  000020  ... 2011-03-15 15:30:00   4070.0\n",
              "748     2011-03-15  000020  ... 2011-03-16 09:00:00   4040.0\n",
              "782     2011-03-15  000020  ... 2011-03-16 15:30:00   4140.0\n",
              "816     2011-03-15  000020  ... 2011-03-17 09:00:00   4065.0\n",
              "...            ...     ...  ...                 ...      ...\n",
              "2357835 2021-06-10  950220  ... 2021-07-05 15:30:00  11750.0\n",
              "2357837 2021-06-10  950220  ... 2021-07-06 09:00:00  11850.0\n",
              "2357839 2021-06-10  950220  ... 2021-07-06 15:30:00  11700.0\n",
              "2357841 2021-06-10  950220  ... 2021-07-07 09:00:00  11650.0\n",
              "2357843 2021-06-10  950220  ... 2021-07-07 15:30:00  11150.0\n",
              "\n",
              "[2357880 rows x 8 columns]"
            ]
          },
          "metadata": {},
          "execution_count": 65
        }
      ]
    },
    {
      "cell_type": "code",
      "metadata": {
        "id": "WPYcJ-XihtFE"
      },
      "source": [
        "(price1\n",
        " [lambda df: df.Date == pd.Timestamp('2014-12-02T09')]\n",
        "#  [lambda df: df.code == '000030']\n",
        ")"
      ],
      "execution_count": null,
      "outputs": []
    },
    {
      "cell_type": "code",
      "metadata": {
        "colab": {
          "base_uri": "https://localhost:8080/",
          "height": 455
        },
        "id": "zllcRNwohN2l",
        "outputId": "e6d888bd-2788-4f6e-e537-7e7f5dadb688"
      },
      "source": [
        "fdr.DataReader('002270')"
      ],
      "execution_count": null,
      "outputs": [
        {
          "output_type": "execute_result",
          "data": {
            "text/html": [
              "<div>\n",
              "<style scoped>\n",
              "    .dataframe tbody tr th:only-of-type {\n",
              "        vertical-align: middle;\n",
              "    }\n",
              "\n",
              "    .dataframe tbody tr th {\n",
              "        vertical-align: top;\n",
              "    }\n",
              "\n",
              "    .dataframe thead th {\n",
              "        text-align: right;\n",
              "    }\n",
              "</style>\n",
              "<table border=\"1\" class=\"dataframe\">\n",
              "  <thead>\n",
              "    <tr style=\"text-align: right;\">\n",
              "      <th></th>\n",
              "      <th>Open</th>\n",
              "      <th>High</th>\n",
              "      <th>Low</th>\n",
              "      <th>Close</th>\n",
              "      <th>Volume</th>\n",
              "      <th>Change</th>\n",
              "    </tr>\n",
              "    <tr>\n",
              "      <th>Date</th>\n",
              "      <th></th>\n",
              "      <th></th>\n",
              "      <th></th>\n",
              "      <th></th>\n",
              "      <th></th>\n",
              "      <th></th>\n",
              "    </tr>\n",
              "  </thead>\n",
              "  <tbody>\n",
              "    <tr>\n",
              "      <th>1997-11-04</th>\n",
              "      <td>25793</td>\n",
              "      <td>25793</td>\n",
              "      <td>25793</td>\n",
              "      <td>25794</td>\n",
              "      <td>2990</td>\n",
              "      <td>NaN</td>\n",
              "    </tr>\n",
              "    <tr>\n",
              "      <th>1997-11-05</th>\n",
              "      <td>25391</td>\n",
              "      <td>26599</td>\n",
              "      <td>25391</td>\n",
              "      <td>26358</td>\n",
              "      <td>6750</td>\n",
              "      <td>0.021866</td>\n",
              "    </tr>\n",
              "    <tr>\n",
              "      <th>1997-11-06</th>\n",
              "      <td>24585</td>\n",
              "      <td>26196</td>\n",
              "      <td>24585</td>\n",
              "      <td>26197</td>\n",
              "      <td>200</td>\n",
              "      <td>-0.006108</td>\n",
              "    </tr>\n",
              "    <tr>\n",
              "      <th>1997-11-07</th>\n",
              "      <td>24101</td>\n",
              "      <td>25713</td>\n",
              "      <td>24101</td>\n",
              "      <td>25713</td>\n",
              "      <td>2020</td>\n",
              "      <td>-0.018475</td>\n",
              "    </tr>\n",
              "    <tr>\n",
              "      <th>1997-11-08</th>\n",
              "      <td>24907</td>\n",
              "      <td>24907</td>\n",
              "      <td>24907</td>\n",
              "      <td>24907</td>\n",
              "      <td>300</td>\n",
              "      <td>-0.031346</td>\n",
              "    </tr>\n",
              "    <tr>\n",
              "      <th>...</th>\n",
              "      <td>...</td>\n",
              "      <td>...</td>\n",
              "      <td>...</td>\n",
              "      <td>...</td>\n",
              "      <td>...</td>\n",
              "      <td>...</td>\n",
              "    </tr>\n",
              "    <tr>\n",
              "      <th>2021-11-30</th>\n",
              "      <td>344000</td>\n",
              "      <td>344000</td>\n",
              "      <td>318000</td>\n",
              "      <td>318500</td>\n",
              "      <td>6971</td>\n",
              "      <td>-0.070073</td>\n",
              "    </tr>\n",
              "    <tr>\n",
              "      <th>2021-12-01</th>\n",
              "      <td>321000</td>\n",
              "      <td>326500</td>\n",
              "      <td>320000</td>\n",
              "      <td>325000</td>\n",
              "      <td>743</td>\n",
              "      <td>0.020408</td>\n",
              "    </tr>\n",
              "    <tr>\n",
              "      <th>2021-12-02</th>\n",
              "      <td>322000</td>\n",
              "      <td>339000</td>\n",
              "      <td>322000</td>\n",
              "      <td>338500</td>\n",
              "      <td>1469</td>\n",
              "      <td>0.041538</td>\n",
              "    </tr>\n",
              "    <tr>\n",
              "      <th>2021-12-03</th>\n",
              "      <td>342000</td>\n",
              "      <td>348500</td>\n",
              "      <td>333000</td>\n",
              "      <td>348000</td>\n",
              "      <td>1711</td>\n",
              "      <td>0.028065</td>\n",
              "    </tr>\n",
              "    <tr>\n",
              "      <th>2021-12-06</th>\n",
              "      <td>348500</td>\n",
              "      <td>353500</td>\n",
              "      <td>340000</td>\n",
              "      <td>353500</td>\n",
              "      <td>1227</td>\n",
              "      <td>0.015805</td>\n",
              "    </tr>\n",
              "  </tbody>\n",
              "</table>\n",
              "<p>6000 rows × 6 columns</p>\n",
              "</div>"
            ],
            "text/plain": [
              "              Open    High     Low   Close  Volume    Change\n",
              "Date                                                        \n",
              "1997-11-04   25793   25793   25793   25794    2990       NaN\n",
              "1997-11-05   25391   26599   25391   26358    6750  0.021866\n",
              "1997-11-06   24585   26196   24585   26197     200 -0.006108\n",
              "1997-11-07   24101   25713   24101   25713    2020 -0.018475\n",
              "1997-11-08   24907   24907   24907   24907     300 -0.031346\n",
              "...            ...     ...     ...     ...     ...       ...\n",
              "2021-11-30  344000  344000  318000  318500    6971 -0.070073\n",
              "2021-12-01  321000  326500  320000  325000     743  0.020408\n",
              "2021-12-02  322000  339000  322000  338500    1469  0.041538\n",
              "2021-12-03  342000  348500  333000  348000    1711  0.028065\n",
              "2021-12-06  348500  353500  340000  353500    1227  0.015805\n",
              "\n",
              "[6000 rows x 6 columns]"
            ]
          },
          "metadata": {},
          "execution_count": 85
        }
      ]
    }
  ]
}